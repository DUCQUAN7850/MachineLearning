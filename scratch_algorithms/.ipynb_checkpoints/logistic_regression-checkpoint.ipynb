{
 "cells": [
  {
   "cell_type": "code",
   "execution_count": 1,
   "metadata": {
    "collapsed": true
   },
   "outputs": [],
   "source": [
    "import matplotlib.pyplot as plt\n",
    "import numpy as np\n"
   ]
  },
  {
   "cell_type": "code",
   "execution_count": 2,
   "metadata": {},
   "outputs": [
    {
     "data": {
      "text/plain": [
       "array([0, 0, 0, 0, 0, 1, 1, 1, 1, 1])"
      ]
     },
     "execution_count": 2,
     "metadata": {},
     "output_type": "execute_result"
    }
   ],
   "source": [
    "X1 = np.array([2.7810836, 1.465489372,3.396561688,1.38807019,3.06407232,\n",
    "               7.627531214,5.332441248,6.922596716,8.675418651,7.673756466])\n",
    "X2 = np.array([2.550537003,2.362125076,4.400293529,1.850220317,3.005305973,\n",
    "               2.759262235,2.088626775,1.77106367,-0.242068655,3.508563011])\n",
    "Y = np.array([0,0,0,0,0,1,1,1,1,1])\n",
    "Y"
   ]
  },
  {
   "cell_type": "code",
   "execution_count": 3,
   "metadata": {},
   "outputs": [
    {
     "data": {
      "image/png": "[encoded data removed]",
      "text/plain": [
       "<matplotlib.figure.Figure at 0x10d34a0b8>"
      ]
     },
     "metadata": {},
     "output_type": "display_data"
    }
   ],
   "source": [
    "plt.plot(X1,X2, 'ro')\n",
    "plt.show()"
   ]
  },
  {
   "cell_type": "markdown",
   "metadata": {
    "collapsed": true
   },
   "source": [
    "### Equation\n",
    "\n",
    "output = B0 + B1 \\* X1 + B2 \\* X2\n",
    "\n",
    "prediction = $\\frac{1}{1+ e^(-output)}$\n",
    "\n",
    "\n",
    "New update weight (b):\n",
    "\n",
    "b = b + alpha \\*  (y  - prediction) \\* prediction \\* (1 -  prediction) \\* x\n"
   ]
  },
  {
   "cell_type": "code",
   "execution_count": 13,
   "metadata": {},
   "outputs": [
    {
     "name": "stdout",
     "output_type": "stream",
     "text": [
      "B0:  -0.40660546399\n",
      "B1:  0.852573316358\n",
      "B2:  -1.10474625904\n"
     ]
    }
   ],
   "source": [
    "# use Stochastic Gradient Descent for update wiegth\n",
    "alpha = 0.3\n",
    "B0 = 0.0\n",
    "B1 = 0.0\n",
    "B2 = 0.0\n",
    "epochs = 10\n",
    "\n",
    "for epoch in range(epochs):\n",
    "    for i in range(len(X1)):\n",
    "        output = B0 + B1 * X1[i] + B2 * X2[i]\n",
    "        \n",
    "        predicted = 1 /(1 + np.exp(-output))\n",
    "        \n",
    "        B0 = B0 + alpha * (Y[i] - predicted) * predicted * (1- predicted) * 1.0\n",
    "        B1 = B1 + alpha * (Y[i] - predicted) * predicted * (1- predicted) * X1[i]\n",
    "        B2 = B2 + alpha * (Y[i] - predicted) * predicted * (1- predicted) * X2[i]        \n",
    "\n",
    "print(\"B0: \", B0)\n",
    "print(\"B1: \", B1)\n",
    "print(\"B2: \", B2)"
   ]
  },
  {
   "cell_type": "code",
   "execution_count": 16,
   "metadata": {},
   "outputs": [
    {
     "name": "stdout",
     "output_type": "stream",
     "text": [
      "Actual: [0 0 0 0 0 1 1 1 1 1]\n",
      "predicted: [0, 0, 0, 0, 0, 1, 1, 1, 1, 1]\n"
     ]
    }
   ],
   "source": [
    "# let predict\n",
    "predictedArr = []\n",
    "for i in range(len(X1)):\n",
    "    output = B0 + B1 * X1[i] + B2 * X2[i]\n",
    "        \n",
    "    predicted = 1 /(1 + np.exp(-output))\n",
    "    \n",
    "    #\n",
    "    if predicted >= 0.5:\n",
    "        predicted = 1\n",
    "    else:\n",
    "        predicted = 0\n",
    "    predictedArr.append(predicted)\n",
    "\n",
    "print(\"Actual:\", Y)\n",
    "print(\"predicted:\", predictedArr)"
   ]
  },
  {
   "cell_type": "code",
   "execution_count": 18,
   "metadata": {},
   "outputs": [
    {
     "name": "stdout",
     "output_type": "stream",
     "text": [
      "accuracy: 100.0\n"
     ]
    }
   ],
   "source": [
    "# calculate accuracy\n",
    "correctPrediction = 0\n",
    "for i in range(len(Y)):\n",
    "    if Y[i] == predictedArr[i]:\n",
    "        correctPrediction += 1\n",
    "\n",
    "accuracy = correctPrediction / len(Y) * 100\n",
    "print ('accuracy:', accuracy)"
   ]
  },
  {
   "cell_type": "code",
   "execution_count": 37,
   "metadata": {},
   "outputs": [],
   "source": [
    "## All in one\n",
    "class LogisticRegression:\n",
    "    def __init__(self, alpha =0.1, epochs = 10):\n",
    "        self.alpha = alpha\n",
    "        self.epochs = epochs\n",
    "        self.B0 = 0.0\n",
    "        self.B1 = 0.0\n",
    "        self.B2 = 0.0\n",
    "        \n",
    "    def _logist_predict(self, x1, x2):\n",
    "        output = self.B0 + self.B1 * x1 + self.B2 * x2\n",
    "        return (1 /(1 + np.exp(-output)))\n",
    "        \n",
    "    def fit(self, X1, X2, Y):\n",
    "        for epoch in range(self.epochs):\n",
    "            for i in range(len(X1)):\n",
    "                #output = self.B0 + self.B1 * X1[i] + self.B2 * X2[i]\n",
    "                #predicted = 1 /(1 + np.exp(-output))\n",
    "                predicted = self._logist_predict(X1[i], X2[i])\n",
    "        \n",
    "                self.B0 = self.B0 + alpha * (Y[i] - predicted) * predicted * (1- predicted) * 1.0\n",
    "                self.B1 = self.B1 + alpha * (Y[i] - predicted) * predicted * (1- predicted) * X1[i]\n",
    "                self.B2 = self.B2 + alpha * (Y[i] - predicted) * predicted * (1- predicted) * X2[i] \n",
    "    \n",
    "    def predict(self, x1, x2):\n",
    "        predicted = self._logist_predict(x1, x2)\n",
    "        if predicted < 0.5:\n",
    "            predicted = 0\n",
    "        else:\n",
    "            predicted = 1\n",
    "                \n",
    "        return predicted\n",
    "        "
   ]
  },
  {
   "cell_type": "code",
   "execution_count": 38,
   "metadata": {},
   "outputs": [
    {
     "name": "stdout",
     "output_type": "stream",
     "text": [
      "Test 1:  1\n",
      "Test 2:  0\n"
     ]
    }
   ],
   "source": [
    "model = LogisticRegression()\n",
    "model.fit(X1,X2,Y)\n",
    "print('Test 1: ',model.predict(X1[-1], X2[-1]))\n",
    "print('Test 2: ',model.predict(X1[0], X2[0]))"
   ]
  },
  {
   "cell_type": "code",
   "execution_count": null,
   "metadata": {
    "collapsed": true
   },
   "outputs": [],
   "source": []
  }
 ],
 "metadata": {
  "kernelspec": {
   "display_name": "Python 3",
   "language": "python",
   "name": "python3"
  },
  "language_info": {
   "codemirror_mode": {
    "name": "ipython",
    "version": 3
   },
   "file_extension": ".py",
   "mimetype": "text/x-python",
   "name": "python",
   "nbconvert_exporter": "python",
   "pygments_lexer": "ipython3",
   "version": "3.6.1"
  }
 },
 "nbformat": 4,
 "nbformat_minor": 2
}
