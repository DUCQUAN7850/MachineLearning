{
 "cells": [
  {
   "cell_type": "code",
   "execution_count": 108,
   "metadata": {
    "collapsed": true
   },
   "outputs": [],
   "source": [
    "import csv\n",
    "\n",
    "def loadCsv(filename):\n",
    "    lines = csv.reader(open(filename, \"r\"))\n",
    "    dataset = list(lines)\n",
    "    for i in range(len(dataset)):\n",
    "        dataset[i] = [float(x) for x in dataset[i]]\n",
    "    return dataset\n"
   ]
  },
  {
   "cell_type": "code",
   "execution_count": 109,
   "metadata": {},
   "outputs": [
    {
     "name": "stdout",
     "output_type": "stream",
     "text": [
      "Loaded data filepima-indians-diabetes.data.csv 768rows\n"
     ]
    }
   ],
   "source": [
    "filename = 'pima-indians-diabetes.data.csv'\n",
    "dataset = loadCsv(filename)\n",
    "print('Loaded data file' + filename + ' ' + str(len(dataset)) + 'rows')"
   ]
  },
  {
   "cell_type": "code",
   "execution_count": 110,
   "metadata": {
    "collapsed": true
   },
   "outputs": [],
   "source": [
    "import random\n",
    "def splitDataset(dataset, splitRadio):\n",
    "    trainSize = int(len(dataset) * splitRadio)\n",
    "    trainSet = []\n",
    "    copy = list(dataset)\n",
    "    while(len(trainSet) < trainSize):\n",
    "        index = random.randrange(len(copy))\n",
    "        trainSet.append(copy.pop(index))\n",
    "    return [trainSet, copy]"
   ]
  },
  {
   "cell_type": "code",
   "execution_count": 111,
   "metadata": {},
   "outputs": [
    {
     "name": "stdout",
     "output_type": "stream",
     "text": [
      "Split 5 rows into train with [[3], [1], [4]] and test with [[2], [5]]\n"
     ]
    }
   ],
   "source": [
    "dataset = [[1], [2], [3], [4], [5]]\n",
    "splitRatio = 0.67\n",
    "train, test = splitDataset(dataset, splitRatio)\n",
    "print('Split {0} rows into train with {1} and test with {2}'.format(len(dataset), train, test))\n"
   ]
  },
  {
   "cell_type": "code",
   "execution_count": 112,
   "metadata": {},
   "outputs": [
    {
     "name": "stdout",
     "output_type": "stream",
     "text": [
      "Separated instances: {0: [[2, 21, 0], [2, 2, 0]], 1: [[1, 20, 1], [3, 22, 1]]}\n"
     ]
    }
   ],
   "source": [
    "# seperate by Class\n",
    "def separateByClass(dataset):\n",
    "    separated = {}\n",
    "    for i in range(len(dataset)):\n",
    "        vector = dataset[i]\n",
    "        #print(vector)\n",
    "        if (vector[-1] not in separated):\n",
    "            separated[vector[-1]] = []\n",
    "        separated[vector[-1]].append(vector)\n",
    "    return separated\n",
    "\n",
    "dataset = [[1,20,1], [2,21,0], [3,22,1], [2,2,0]]\n",
    "separated = separateByClass(dataset)\n",
    "print('Separated instances: {0}'.format(separated))"
   ]
  },
  {
   "cell_type": "code",
   "execution_count": 113,
   "metadata": {},
   "outputs": [
    {
     "name": "stdout",
     "output_type": "stream",
     "text": [
      "Summary of [1, 2, 3, 4, 5]: mean=3.0, stdev=1.5811388300841898\n"
     ]
    }
   ],
   "source": [
    "import math\n",
    "\n",
    "def mean(numbers):\n",
    "    #print(num)\n",
    "    return sum(numbers) / float(len(numbers))\n",
    "\n",
    "def stdev(numbers):\n",
    "    #print(numbers)\n",
    "    avg = mean(numbers)\n",
    "    variance = sum([pow(x-avg, 2) for x in numbers])/float(len(numbers)-1)\n",
    "    return math.sqrt(variance)\n",
    "\n",
    "numbers = [1,2,3,4,5]\n",
    "print('Summary of {0}: mean={1}, stdev={2}'.format(numbers, mean(numbers), stdev(numbers)))"
   ]
  },
  {
   "cell_type": "code",
   "execution_count": 114,
   "metadata": {},
   "outputs": [
    {
     "name": "stdout",
     "output_type": "stream",
     "text": [
      "Attribute summaries: [(2.0, 1.0), (21.0, 1.0)]\n"
     ]
    }
   ],
   "source": [
    "# sumarize dataset\n",
    "def summarize(dataset):\n",
    "    #print('data',data)\n",
    "    summaries = [(mean(attribute), stdev(attribute)) for attribute in zip(*dataset)]\n",
    "    del summaries[-1]\n",
    "    return summaries\n",
    "\n",
    "dataset = [[1,20,0], [2,21,1], [3,22,0]]\n",
    "summary = summarize(dataset)\n",
    "print('Attribute summaries: {0}'.format(summary))"
   ]
  },
  {
   "cell_type": "code",
   "execution_count": 115,
   "metadata": {},
   "outputs": [
    {
     "name": "stdout",
     "output_type": "stream",
     "text": [
      "Summary by class value: {0: [(3.0, 1.4142135623730951), (21.5, 0.7071067811865476)], 1: [(2.0, 1.4142135623730951), (21.0, 1.4142135623730951)]}\n"
     ]
    }
   ],
   "source": [
    "#summarize by Class\n",
    "def summarizeByClass(data):\n",
    "    seperated = separateByClass(data)\n",
    "    items = seperated.items()\n",
    "    summaries = {}\n",
    "    for classValue, instances, in items:\n",
    "        summaries[classValue] = summarize(instances)\n",
    "    return summaries\n",
    "\n",
    "dataset3 = [[1,20,1], [2,21,0], [3,22,1], [4,22,0]]\n",
    "summary = summarizeByClass(dataset3)\n",
    "print('Summary by class value: {0}'.format(summary))"
   ]
  },
  {
   "cell_type": "code",
   "execution_count": 116,
   "metadata": {},
   "outputs": [
    {
     "name": "stdout",
     "output_type": "stream",
     "text": [
      "Probability of belonging to this class: 0.06248965759370005\n"
     ]
    }
   ],
   "source": [
    "import math\n",
    "def calculateProbability(x, mean, stdev):\n",
    "    exponent = math.exp(-(math.pow(x -mean, 2)/(2*math.pow(stdev,2))))\n",
    "    return (1/ (math.sqrt(2*math.pi) * stdev)) * exponent\n",
    "\n",
    "x = 71.5\n",
    "mean = 73\n",
    "stdev = 6.2\n",
    "probability = calculateProbability(x, mean, stdev)\n",
    "print('Probability of belonging to this class: {0}'.format(probability))"
   ]
  },
  {
   "cell_type": "code",
   "execution_count": 138,
   "metadata": {},
   "outputs": [
    {
     "name": "stdout",
     "output_type": "stream",
     "text": [
      "Predictions: ['A', 'B']\n",
      "Accuracy: 66.66666666666666\n"
     ]
    }
   ],
   "source": [
    "# calculate class probabilities\n",
    "def calculateClassProbabilities(summaries, inputV):\n",
    "    probabilities = {}\n",
    "    items = summaries.items()\n",
    "    for classValue, classSummaries in items:\n",
    "        probabilities[classValue] = 1\n",
    "        for i in range(len(classSummaries)):\n",
    "            mean, stdev = classSummaries[i]\n",
    "            x = inputV[i]\n",
    "            probabilities[classValue] *= calculateProbability(x, mean, stdev)\n",
    "    return probabilities\n",
    "\n",
    "#summaries = {0: [(1, 0.5)], 1: [(20, 5.0)]}\n",
    "#inputVector = [1.1, '?']\n",
    "#probabilities = calculateClassProbabilities(summaries, inputVector)\n",
    "#print('Probabilities for each class: {0}'.format(probabilities))\n",
    "            \n",
    "# make a prediction\n",
    "def predict(summaries, inputV):\n",
    "    probabilities = calculateClassProbabilities(summaries, inputV)\n",
    "    bestLabel, bestProb = None, -1\n",
    "    items = probabilities.items()\n",
    "    for  classValue, probability in items:\n",
    "        if bestLabel is None or probability > bestProb:\n",
    "            bestProb = probability\n",
    "            bestLabel = classValue\n",
    "    return bestLabel\n",
    "\n",
    "#summaries = {'A': [(1, 0.5)], 'B': [(20,5.0)]}\n",
    "#inputVector = [21.1, '?']\n",
    "#result = predict(summaries, inputVector)\n",
    "#print('Prediction: {0}'.format(result))\n",
    "\n",
    "def getPredictions(summaries, testSet):\n",
    "    predictions = []\n",
    "    for i in range(len(testSet)):\n",
    "        result = predict(summaries, testSet[i])\n",
    "        predictions.append(result)\n",
    "    return  predictions\n",
    "\n",
    "summaries = {'A': [(1, 0.5)], 'B': [(20, 5.0)]}\n",
    "testSet = [[1.1, '?'], [21.1, '?']]\n",
    "#testSet = [[1.1, '?']]\n",
    "predictions = getPredictions(summaries, testSet)\n",
    "print('Predictions: {0}'.format(predictions))\n",
    "\n",
    "# get accuracy\n",
    "def getAccuracy(testSet, predictions):\n",
    "    correct = 0\n",
    "    for x in range(len(testSet)):\n",
    "        if testSet[x][-1] == predictions[x]:\n",
    "            correct += 1\n",
    "    return (correct/float(len(testSet))) * 100\n",
    "\n",
    "testSet = [[1,1,1,'a'], [2,2,2,'a'], [3,3,3,'b']]\n",
    "predictions = ['a', 'a', 'a']\n",
    "accuracy = getAccuracy(testSet, predictions)\n",
    "print('Accuracy: {0}'.format(accuracy))"
   ]
  },
  {
   "cell_type": "code",
   "execution_count": 147,
   "metadata": {},
   "outputs": [
    {
     "name": "stdout",
     "output_type": "stream",
     "text": [
      "Split 768 rows into train=514 and test=254 rows\n",
      "Accuracy: 77.55905511811024%\n"
     ]
    }
   ],
   "source": [
    "# all together\n",
    "def loadCsv(filename):\n",
    "    lines = csv.reader(open(filename, \"r\"))\n",
    "    dataset = list(lines)\n",
    "    for i in range(len(dataset)):\n",
    "        dataset[i] = [float(x) for x in dataset[i]]\n",
    "    return dataset\n",
    "\n",
    "def splitDataset(dataset, splitRadio):\n",
    "    trainSize = int(len(dataset) * splitRadio)\n",
    "    trainSet = []\n",
    "    copy = list(dataset)\n",
    "    while(len(trainSet) < trainSize):\n",
    "        index = random.randrange(len(copy))\n",
    "        trainSet.append(copy.pop(index))\n",
    "    return [trainSet, copy]\n",
    "\n",
    "# The naive-bayes class model\n",
    "class NaiveBayes:\n",
    "    def __init__(self):\n",
    "        self.summaries = {}\n",
    "        self.probabilities = {}\n",
    "\n",
    "    def fit(self, trainingSet):\n",
    "        self._summarizeByClass(trainingSet)\n",
    "        \n",
    "    def predict(self, testSet):\n",
    "        predictions = []\n",
    "        for i in range(len(testSet)):\n",
    "            result = self._predicting(testSet[i])\n",
    "            predictions.append(result)\n",
    "        return  predictions\n",
    "    \n",
    "    # get accuracy\n",
    "    def getAccuracy(self, testSet, predictions):\n",
    "        correct = 0\n",
    "        for x in range(len(testSet)):\n",
    "            if testSet[x][-1] == predictions[x]:\n",
    "                correct += 1\n",
    "        return (correct/float(len(testSet))) * 100\n",
    "    \n",
    "    def _predicting(self, inputValue):\n",
    "        probabilities = self._calculateClassProbabilities(inputValue)\n",
    "        bestLabel, bestProb = None, -1\n",
    "        items = probabilities.items()\n",
    "        for  classValue, probability in items:\n",
    "            if bestLabel is None or probability > bestProb:\n",
    "                bestProb = probability\n",
    "                bestLabel = classValue\n",
    "        return bestLabel\n",
    "    \n",
    "    def _calculateClassProbabilities(self, inputValue):\n",
    "        items = self.summaries.items()\n",
    "        for classValue, classSummaries in items:\n",
    "            self.probabilities[classValue] = 1\n",
    "            for i in range(len(classSummaries)):\n",
    "                mean, stdev = classSummaries[i]\n",
    "                x = inputValue[i]\n",
    "                self.probabilities[classValue] *= self._calculateProbability(x, mean, stdev)\n",
    "        return self.probabilities\n",
    "    \n",
    "    def _calculateProbability(self, x, mean, stdev):\n",
    "        exponent = math.exp(-(math.pow(x -mean, 2)/(2*math.pow(stdev,2))))\n",
    "        return (1/ (math.sqrt(2*math.pi) * stdev)) * exponent\n",
    "    \n",
    "    #summarize by Class\n",
    "    def _summarizeByClass(self, data):\n",
    "        seperated = self._separateByClass(data)\n",
    "        items = seperated.items()\n",
    "        for classValue, instances, in items:\n",
    "            self.summaries[classValue] = self._summarize(instances)\n",
    "        return self.summaries\n",
    "\n",
    "    # seperate by Class\n",
    "    def _separateByClass(self, dataset):\n",
    "        separated = {}\n",
    "        for i in range(len(dataset)):\n",
    "            vector = dataset[i]\n",
    "            if (vector[-1] not in separated):\n",
    "                separated[vector[-1]] = []\n",
    "            separated[vector[-1]].append(vector)\n",
    "        return separated\n",
    "    \n",
    "    # sumarize dataset\n",
    "    def _summarize(self, dataset):\n",
    "        summaries = [(self._mean(attribute), self._stdev(attribute)) for attribute in zip(*dataset)]\n",
    "        del summaries[-1]\n",
    "        return summaries\n",
    "\n",
    "    def _mean(self, numbers):\n",
    "        return sum(numbers) / float(len(numbers))\n",
    "\n",
    "    def _stdev(self, numbers):\n",
    "        avg = self._mean(numbers)\n",
    "        variance = sum([pow(x-avg, 2) for x in numbers])/float(len(numbers)-1)\n",
    "        return math.sqrt(variance)\n",
    "    \n",
    "def main():\n",
    "    filename = 'pima-indians-diabetes.data.csv'\n",
    "    splitRatio = 0.67\n",
    "    dataset = loadCsv(filename)\n",
    "    trainingSet, testSet = splitDataset(dataset, splitRatio)\n",
    "    print('Split {0} rows into train={1} and test={2} rows'.format(len(dataset), len(trainingSet), len(testSet)))\n",
    "    \n",
    "    # init and prepare model\n",
    "    model = NaiveBayes()\n",
    "    model.fit(trainingSet)\n",
    "    \n",
    "    # test model\n",
    "    predictions = model.predict(testSet)\n",
    "    accuracy = model.getAccuracy(testSet, predictions)\n",
    "    print('Accuracy: {0}%'.format(accuracy))\n",
    "main()"
   ]
  },
  {
   "cell_type": "code",
   "execution_count": null,
   "metadata": {
    "collapsed": true
   },
   "outputs": [],
   "source": []
  }
 ],
 "metadata": {
  "kernelspec": {
   "display_name": "Python 3",
   "language": "python",
   "name": "python3"
  },
  "language_info": {
   "codemirror_mode": {
    "name": "ipython",
    "version": 3
   },
   "file_extension": ".py",
   "mimetype": "text/x-python",
   "name": "python",
   "nbconvert_exporter": "python",
   "pygments_lexer": "ipython3",
   "version": "3.5.3"
  }
 },
 "nbformat": 4,
 "nbformat_minor": 2
}
