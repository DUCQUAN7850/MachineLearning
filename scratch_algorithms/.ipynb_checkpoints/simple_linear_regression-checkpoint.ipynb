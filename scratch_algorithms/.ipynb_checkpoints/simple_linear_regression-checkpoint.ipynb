{
 "cells": [
  {
   "cell_type": "code",
   "execution_count": 1,
   "metadata": {
    "collapsed": true
   },
   "outputs": [],
   "source": [
    "import matplotlib.pyplot as plt\n",
    "import numpy as np\n",
    "import math"
   ]
  },
  {
   "cell_type": "code",
   "execution_count": 2,
   "metadata": {},
   "outputs": [
    {
     "data": {
      "image/png": "[encoded data removed]",
      "text/plain": [
       "<matplotlib.figure.Figure at 0x7f87441bceb8>"
      ]
     },
     "metadata": {},
     "output_type": "display_data"
    }
   ],
   "source": [
    "x = np.array([1,2,4,3,5])\n",
    "y = np.array([1,3,3,2,5])\n",
    "plt.plot(x,y, 'o', color='blue')\n",
    "plt.show()"
   ]
  },
  {
   "cell_type": "markdown",
   "metadata": {},
   "source": [
    "### The Equation\n",
    "y = B0 + B1 * x\n",
    "\n",
    "\n",
    "B1 = $\\frac{\\sum\\limits_{i=0}^{n}(x_i - mean(x)) * (y_i - mean(y)}{\\sum\\limits_{i=0}^{n}(x_i - mean(x))^2}$ \n",
    "\n",
    "or\n",
    "\n",
    "B1 = corr(x,y) * $\\frac{stdev(y)}{stdev(x)}$\n",
    "\n",
    "B0 = mean(y) - B1 * mean(x)\n",
    "\n",
    "### Error Estimation\n",
    "\n",
    "RMSE = $\\sqrt{\\frac{\\sum\\limits_{i=0}^{n}(p_i - y_i)^2}{n}}$\n"
   ]
  },
  {
   "cell_type": "code",
   "execution_count": 3,
   "metadata": {},
   "outputs": [
    {
     "name": "stdout",
     "output_type": "stream",
     "text": [
      "x:  [1 2 4 3 5]\n",
      "mean(x): 3.0\n",
      "x - mean(x): [-2. -1.  1.  0.  2.]\n",
      "y: [1 3 3 2 5]\n",
      "mean(y): 2.8\n",
      "y - mean(y) [-1.8  0.2  0.2 -0.8  2.2]\n",
      "x - mean(x) [-2. -1.  1.  0.  2.]\n",
      "y- mean(y [-1.8  0.2  0.2 -0.8  2.2]\n",
      "multiplication: [ 3.6 -0.2  0.2 -0.   4.4]\n",
      "x - mean(x) [-2. -1.  1.  0.  2.]\n",
      "square [ 4.  1.  1.  0.  4.]\n"
     ]
    },
    {
     "data": {
      "text/plain": [
       "0.80000000000000004"
      ]
     },
     "execution_count": 3,
     "metadata": {},
     "output_type": "execute_result"
    }
   ],
   "source": [
    "# Estimating The Slope (B1)\n",
    "\n",
    "print('x: ', x)\n",
    "meanX = np.mean(x)\n",
    "print('mean(x):', meanX)\n",
    "x_meanX =  x - meanX\n",
    "print('x - mean(x):', x_meanX)\n",
    "\n",
    "print('y:', y)\n",
    "meanY = np.mean(y)\n",
    "print('mean(y):', meanY)\n",
    "y_meanY = y - meanY\n",
    "print('y - mean(y)', y_meanY)\n",
    "\n",
    "print('x - mean(x)', x_meanX)\n",
    "print('y- mean(y', y_meanY)\n",
    "print('multiplication:', x_meanX * y_meanY)\n",
    "\n",
    "print('x - mean(x)', x_meanX)\n",
    "print('square', x_meanX * x_meanX)\n",
    "\n",
    "B1 = np.sum((x_meanX * y_meanY))/ np.sum((x_meanX * x_meanX))\n",
    "B1"
   ]
  },
  {
   "cell_type": "code",
   "execution_count": 4,
   "metadata": {},
   "outputs": [
    {
     "data": {
      "text/plain": [
       "0.39999999999999947"
      ]
     },
     "execution_count": 4,
     "metadata": {},
     "output_type": "execute_result"
    }
   ],
   "source": [
    "# Estimating The Intercept (B0)\n",
    "B0 = np.mean(y) - B1 * np.mean(x)\n",
    "B0"
   ]
  },
  {
   "cell_type": "code",
   "execution_count": 5,
   "metadata": {},
   "outputs": [
    {
     "name": "stdout",
     "output_type": "stream",
     "text": [
      "x: 1, predicted Y: 1.1999999999999995\n",
      "x: 2, predicted Y: 1.9999999999999996\n",
      "x: 4, predicted Y: 3.5999999999999996\n",
      "x: 3, predicted Y: 2.8\n",
      "x: 5, predicted Y: 4.3999999999999995\n"
     ]
    }
   ],
   "source": [
    "# Making Prediction\n",
    "# y = B0 + B1 * x\n",
    "for i in x:\n",
    "    print('x: {}, predicted Y: {}'.format(i, B0 + B1 * i))\n"
   ]
  },
  {
   "cell_type": "code",
   "execution_count": 6,
   "metadata": {},
   "outputs": [
    {
     "name": "stdout",
     "output_type": "stream",
     "text": [
      "Predicted: [1.1999999999999995, 1.9999999999999996, 3.5999999999999996, 2.7999999999999998, 4.3999999999999995]\n",
      "Y: [1 3 3 2 5]\n",
      "Predicted -y: [ 0.2 -1.   0.6  0.8 -0.6]\n",
      "squared error [ 0.04  1.    0.36  0.64  0.36]\n"
     ]
    },
    {
     "data": {
      "text/plain": [
       "0.692820323027551"
      ]
     },
     "execution_count": 6,
     "metadata": {},
     "output_type": "execute_result"
    }
   ],
   "source": [
    "# Estimating Error\n",
    "predicted = ([B0 + B1 * i for i in x])\n",
    "predicted_Y = predicted -y\n",
    "print('Predicted:', predicted)\n",
    "print('Y:', y)\n",
    "print('Predicted -y:', predicted_Y)\n",
    "\n",
    "#(error × error or error ^ 2 )\n",
    "print('squared error', predicted_Y * predicted_Y)\n",
    "RMSE = math.sqrt(np.sum(predicted_Y * predicted_Y) / len(x))\n",
    "RMSE"
   ]
  },
  {
   "cell_type": "code",
   "execution_count": 7,
   "metadata": {},
   "outputs": [
    {
     "data": {
      "image/png": "[encoded data removed]",
      "text/plain": [
       "<matplotlib.figure.Figure at 0x7f87421d9e10>"
      ]
     },
     "metadata": {},
     "output_type": "display_data"
    }
   ],
   "source": [
    "plt.plot(x,y, 'g^')\n",
    "plt.plot( x, predicted, 'ro-', label='Theoretical')\n",
    "plt.xlabel('X')\n",
    "plt.ylabel('Y')\n",
    "plt.show()"
   ]
  },
  {
   "cell_type": "code",
   "execution_count": 8,
   "metadata": {
    "collapsed": true
   },
   "outputs": [],
   "source": [
    "# combine\n",
    "# cal B1\n",
    "class SimpleLinearRegression:\n",
    "    def __init__(self):\n",
    "        self.B0 = 0\n",
    "        self.B1 = 0\n",
    "\n",
    "    def calB0B1(self, X, Y):\n",
    "        meanX = np.mean(X)\n",
    "        x_meanX =  X - meanX\n",
    "\n",
    "        meanY = np.mean(Y)\n",
    "        y_meanY = Y - meanY\n",
    "\n",
    "        self.B1 = np.sum((x_meanX * y_meanY))/ np.sum((x_meanX * x_meanX))\n",
    "        self.B0 = meanY - self.B1 * meanX\n",
    "    \n",
    "    def fit(self, X,y):\n",
    "        self.calB0B1(X, y)\n",
    "    \n",
    "    def predict(self, x):\n",
    "        return self.B0 + self.B1 * x\n"
   ]
  },
  {
   "cell_type": "code",
   "execution_count": 9,
   "metadata": {},
   "outputs": [
    {
     "name": "stdout",
     "output_type": "stream",
     "text": [
      "predict: 1.2\n",
      "predict: 2.0\n",
      "predict: 3.6\n",
      "predict: 2.8\n",
      "predict: 4.4\n"
     ]
    }
   ],
   "source": [
    "#test\n",
    "model = SimpleLinearRegression()\n",
    "model.fit(x,y)\n",
    "for i in x:\n",
    "    print('predict:', model.predict(i))"
   ]
  },
  {
   "cell_type": "code",
   "execution_count": 10,
   "metadata": {},
   "outputs": [
    {
     "data": {
      "text/plain": [
       "8.3999999999999986"
      ]
     },
     "execution_count": 10,
     "metadata": {},
     "output_type": "execute_result"
    }
   ],
   "source": [
    "model.predict(10)"
   ]
  },
  {
   "cell_type": "code",
   "execution_count": null,
   "metadata": {
    "collapsed": true
   },
   "outputs": [],
   "source": []
  }
 ],
 "metadata": {
  "kernelspec": {
   "display_name": "Python 3",
   "language": "python",
   "name": "python3"
  },
  "language_info": {
   "codemirror_mode": {
    "name": "ipython",
    "version": 3
   },
   "file_extension": ".py",
   "mimetype": "text/x-python",
   "name": "python",
   "nbconvert_exporter": "python",
   "pygments_lexer": "ipython3",
   "version": "3.5.3"
  }
 },
 "nbformat": 4,
 "nbformat_minor": 2
}
