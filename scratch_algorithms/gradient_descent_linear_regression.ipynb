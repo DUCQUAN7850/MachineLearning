{
 "cells": [
  {
   "cell_type": "code",
   "execution_count": 1,
   "metadata": {
    "collapsed": true
   },
   "outputs": [],
   "source": [
    "import numpy as np\n",
    "import math\n",
    "import matplotlib.pyplot as plt"
   ]
  },
  {
   "cell_type": "code",
   "execution_count": 48,
   "metadata": {
    "collapsed": true
   },
   "outputs": [],
   "source": [
    "# load sample data\n",
    "X = np.array([1,2,4,3,5])\n",
    "Y = np.array([1,3,3,2,5])"
   ]
  },
  {
   "cell_type": "markdown",
   "metadata": {},
   "source": [
    "### The Equations\n",
    "\n",
    "w = w − alpha × delta\n",
    "- w: weights\n",
    "- alpha: learning rate where we must configure(Ex: 0.1)\n",
    "- delta: \n",
    "\n",
    "linear regression prediction equation: y = B0 + B1 * x\n",
    "\n",
    "error = p(i) - y(i)\n",
    "\n",
    "B0(t +1) = B0(t) - alpha * error\n",
    "B1(t+1) = B1(t) -alpha * error * x\n",
    "\n",
    "One pass through the training dataset is called an epoch."
   ]
  },
  {
   "cell_type": "code",
   "execution_count": 49,
   "metadata": {},
   "outputs": [
    {
     "name": "stdout",
     "output_type": "stream",
     "text": [
      "B0 [0.01, 0.039700000000000006, 0.066527000000000003, 0.080560489999999998, 0.1188144616, 0.123525533704, 0.14399449036487999, 0.1543254529242008, 0.15787066348506751, 0.18090761708293468, 0.18286982527875553, 0.19854445159535197, 0.20031168611283873, 0.19841101038469214, 0.21354940352837021, 0.21408149048540759, 0.22726519582605495, 0.22458688793154549, 0.2198581740473845, 0.23089749104812557]\n",
      "--------------------------------------------------------------------------------------------------------------------------------------------------------------------------------------------------------\n",
      "B1 [0.01, 0.069400000000000003, 0.176708, 0.21880847, 0.41007832799999999, 0.41478940010400001, 0.45572731342576001, 0.49705116366304319, 0.50768679534564332, 0.62287156333497917, 0.6248337715308, 0.65618302416399288, 0.6632519622339399, 0.6575499350495001, 0.73324190076789042, 0.73377398772492786, 0.76014139840622263, 0.74942816682818481, 0.73524202517570181, 0.79043861017940709]\n"
     ]
    }
   ],
   "source": [
    "# let start by init B0. B1 = 0.0, 0.0\n",
    "# and set learning rate 0.01\n",
    "# let run 4 complete epochs of trainning data\n",
    "B0 = 0.0\n",
    "B1 = 0.0\n",
    "alpha = 0.01\n",
    "epochs = 0\n",
    "arrB0 = []\n",
    "arrB1 = []\n",
    "while True:\n",
    "    for i in range(len(X)):\n",
    "        # calculate the prediction\n",
    "        predicted = B0 + B1 * X[i]\n",
    "        \n",
    "        # calculate error\n",
    "        error = predicted - Y[i]\n",
    "        \n",
    "        # update the B0, B1\n",
    "        B0 = B0 - alpha * error\n",
    "        B1 = B1 - alpha * error * X[i]\n",
    "        \n",
    "        # store B0, B1\n",
    "        arrB0.append(B0)\n",
    "        arrB1.append(B1)\n",
    "    \n",
    "    epochs += 1\n",
    "    if epochs >= 4:\n",
    "        break\n",
    "    \n",
    "print('B0', arrB0)\n",
    "print('-' * 200)\n",
    "print('B1', arrB1)"
   ]
  },
  {
   "cell_type": "code",
   "execution_count": 50,
   "metadata": {},
   "outputs": [
    {
     "data": {
      "image/png": "[encoded data removed]",
      "text/plain": [
       "<matplotlib.figure.Figure at 0x7fb90606ebe0>"
      ]
     },
     "metadata": {},
     "output_type": "display_data"
    }
   ],
   "source": [
    "plt.plot(arrB0,arrB1, 'ro')\n",
    "plt.show()"
   ]
  },
  {
   "cell_type": "code",
   "execution_count": 51,
   "metadata": {},
   "outputs": [
    {
     "data": {
      "image/png": "[encoded data removed]",
      "text/plain": [
       "<matplotlib.figure.Figure at 0x7fb90602f3c8>"
      ]
     },
     "metadata": {},
     "output_type": "display_data"
    }
   ],
   "source": [
    "# set  B0, B1 to the last value\n",
    "B0 = arrB0[-1]\n",
    "B1 = arrB1[-1]\n",
    "predicted = ([B0 + B1 * i for i in X])\n",
    "plt.plot(X,Y, 'g^')\n",
    "plt.plot(X, predicted,'ro-')\n",
    "plt.show()"
   ]
  },
  {
   "cell_type": "code",
   "execution_count": 52,
   "metadata": {},
   "outputs": [
    {
     "name": "stdout",
     "output_type": "stream",
     "text": [
      "Predicted: [1.0213361012275326, 1.8117747114069398, 3.3926519317657537, 2.6022133215863468, 4.1830905419451607]\n",
      "Y: [1 3 3 2 5]\n",
      "Predicted -y: [ 0.0213361  -1.18822529  0.39265193  0.60221332 -0.81690946]\n",
      "squared error [  4.55229216e-04   1.41187934e+00   1.54175540e-01   3.62660885e-01\n",
      "   6.67341063e-01]\n"
     ]
    },
    {
     "data": {
      "text/plain": [
       "0.7206264014789554"
      ]
     },
     "execution_count": 52,
     "metadata": {},
     "output_type": "execute_result"
    }
   ],
   "source": [
    "# Estimating Error\n",
    "predicted_Y = predicted - Y\n",
    "print('Predicted:', predicted)\n",
    "print('Y:', Y)\n",
    "print('Predicted -y:', predicted_Y)\n",
    "\n",
    "#(error × error or error ^ 2 )\n",
    "print('squared error', predicted_Y * predicted_Y)\n",
    "RMSE = math.sqrt(np.sum(predicted_Y * predicted_Y) / len(X))\n",
    "RMSE"
   ]
  },
  {
   "cell_type": "code",
   "execution_count": 55,
   "metadata": {},
   "outputs": [],
   "source": [
    "# put it all together\n",
    "class GradientDescentLinearRegression:\n",
    "    def __init__(self, alpha = 0.01, epochs = 4, B0 = 0.0, B1 = 0.0):\n",
    "        self.alpha = alpha\n",
    "        self.epochs = epochs\n",
    "        self.B0 = B0\n",
    "        self.B1 = B1            \n",
    "    \n",
    "    def updateWeights(self, samples, labels):\n",
    "        for epoch in range(self.epochs):\n",
    "            for i in range(len(samples)):\n",
    "                # calculate the prediction\n",
    "                predicted = self.B0 + self.B1 * samples[i]\n",
    "            \n",
    "                # calculate error\n",
    "                error = predicted - labels[i]\n",
    "            \n",
    "                # update the B0, B1\n",
    "                self.B0 = self.B0 - alpha * error\n",
    "                self.B1 = self.B1 - alpha * error * samples[i]\n",
    "            \n",
    "    def fit(self, samples, labels):\n",
    "        self.updateWeights(samples, labels)\n",
    "        print('B0: {}, B1: {} '.format( self.B0,self.B1))\n",
    "    \n",
    "    def predict(self, x):\n",
    "        return self.B0 + self.B1 * x"
   ]
  },
  {
   "cell_type": "code",
   "execution_count": 56,
   "metadata": {},
   "outputs": [
    {
     "name": "stdout",
     "output_type": "stream",
     "text": [
      "B0: 0.23089749104812557, B1: 0.7904386101794071 \n"
     ]
    },
    {
     "data": {
      "text/plain": [
       "8.135283592842196"
      ]
     },
     "execution_count": 56,
     "metadata": {},
     "output_type": "execute_result"
    }
   ],
   "source": [
    "model = GradientDescentLinearRegression()\n",
    "model.fit(X,Y)\n",
    "model.predict(10)"
   ]
  },
  {
   "cell_type": "code",
   "execution_count": null,
   "metadata": {
    "collapsed": true
   },
   "outputs": [],
   "source": []
  }
 ],
 "metadata": {
  "kernelspec": {
   "display_name": "Python 3",
   "language": "python",
   "name": "python3"
  },
  "language_info": {
   "codemirror_mode": {
    "name": "ipython",
    "version": 3
   },
   "file_extension": ".py",
   "mimetype": "text/x-python",
   "name": "python",
   "nbconvert_exporter": "python",
   "pygments_lexer": "ipython3",
   "version": "3.5.3"
  }
 },
 "nbformat": 4,
 "nbformat_minor": 2
}
