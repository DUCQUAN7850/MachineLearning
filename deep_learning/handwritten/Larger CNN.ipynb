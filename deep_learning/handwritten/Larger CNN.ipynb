{
 "cells": [
  {
   "cell_type": "code",
   "execution_count": 17,
   "metadata": {},
   "outputs": [],
   "source": [
    "# Large CNN for the MNIST dataset\n",
    "import numpy as np\n",
    "from keras.datasets import mnist\n",
    "from keras.models import Sequential\n",
    "from keras.layers import Dense\n",
    "from keras.layers import Dropout\n",
    "from keras.layers import Flatten\n",
    "from keras.layers.convolutional import Conv2D\n",
    "from keras.layers.convolutional import MaxPooling2D\n",
    "from keras.utils import np_utils\n",
    "from keras import backend as K\n",
    "K.set_image_dim_ordering('th')\n",
    "# fitx random seed for reproducibility\n",
    "seed = 7\n",
    "np.random.seed(seed)\n",
    "#load data\n",
    "(X_train, y_train), (X_test, y_test) = mnist.load_data()\n",
    "# reshape to be [samples][pixels][width][height]\n",
    "X_train = X_train.reshape(X_train.shape[0], 1, 28, 28).astype('float32')\n",
    "X_test = X_test.reshape(X_test.shape[0], 1, 28, 28).astype('float32')\n",
    "#normalize inputs from 0-255 to 0-1\n",
    "X_train =X_train/ 255\n",
    "X_test = X_test /255\n",
    "# one hot encode outputs\n",
    "y_train = np_utils.to_categorical(y_train)\n",
    "y_test = np_utils.to_categorical(y_test)\n",
    "num_classes = y_test.shape[1]"
   ]
  },
  {
   "cell_type": "code",
   "execution_count": 18,
   "metadata": {
    "collapsed": true
   },
   "outputs": [],
   "source": [
    "# define the large model\n",
    "# 1. Convolutional layer with 30 feature maps of size 5×5.\n",
    "# 2. Pooling layer taking the max over 2*2 patches.\n",
    "# 3. Convolutional layer with 15 feature maps of size 3×3.\n",
    "# 4. Pooling layer taking the max over 2*2 patches.\n",
    "# 5. Dropout layer with a probability of 20%.\n",
    "# 6. Flatten layer.\n",
    "# 7. Fully connected layer with 128 neurons and rectifier activation.\n",
    "# 8. Fully connected layer with 50 neurons and rectifier activation.\n",
    "# 9. Output layer.\n",
    "def larger_model():\n",
    "    # create model\n",
    "    model = Sequential()\n",
    "    model.add(Conv2D(30, (5,5), input_shape=(1,28,28), activation='relu'))\n",
    "    model.add(MaxPooling2D(pool_size=(2,2)))\n",
    "    model.add(Conv2D(15, (3, 3), activation='relu'))\n",
    "    model.add(MaxPooling2D(pool_size=(2,2)))\n",
    "    model.add(Dropout(0.2))\n",
    "    model.add(Flatten())\n",
    "    model.add(Dense(128, activation= 'relu'))\n",
    "    model.add(Dense(50, activation= 'relu'))\n",
    "    model.add(Dense(num_classes, activation='softmax'))\n",
    "    # complite model\n",
    "    model.compile(loss='categorical_crossentropy', optimizer='adam', metrics=['accuracy'])\n",
    "    return model\n",
    "    "
   ]
  },
  {
   "cell_type": "code",
   "execution_count": 20,
   "metadata": {},
   "outputs": [
    {
     "name": "stdout",
     "output_type": "stream",
     "text": [
      "Train on 60000 samples, validate on 10000 samples\n",
      "Epoch 1/10\n",
      "60000/60000 [==============================] - 189s - loss: 0.3891 - acc: 0.8821 - val_loss: 0.0828 - val_acc: 0.9763\n",
      "Epoch 2/10\n",
      "60000/60000 [==============================] - 201s - loss: 0.1018 - acc: 0.9685 - val_loss: 0.0532 - val_acc: 0.9834\n",
      "Epoch 3/10\n",
      "60000/60000 [==============================] - 211s - loss: 0.0734 - acc: 0.9769 - val_loss: 0.0423 - val_acc: 0.9866\n",
      "Epoch 4/10\n",
      "60000/60000 [==============================] - 203s - loss: 0.0576 - acc: 0.9826 - val_loss: 0.0342 - val_acc: 0.9891\n",
      "Epoch 5/10\n",
      "60000/60000 [==============================] - 203s - loss: 0.0514 - acc: 0.9840 - val_loss: 0.0365 - val_acc: 0.9879\n",
      "Epoch 6/10\n",
      "60000/60000 [==============================] - 204s - loss: 0.0448 - acc: 0.9858 - val_loss: 0.0298 - val_acc: 0.9902\n",
      "Epoch 7/10\n",
      "60000/60000 [==============================] - 213s - loss: 0.0400 - acc: 0.9875 - val_loss: 0.0282 - val_acc: 0.9903\n",
      "Epoch 8/10\n",
      "60000/60000 [==============================] - 207s - loss: 0.0359 - acc: 0.9886 - val_loss: 0.0268 - val_acc: 0.9909\n",
      "Epoch 9/10\n",
      "60000/60000 [==============================] - 207s - loss: 0.0336 - acc: 0.9891 - val_loss: 0.0287 - val_acc: 0.9906\n",
      "Epoch 10/10\n",
      "60000/60000 [==============================] - 106s - loss: 0.0300 - acc: 0.9902 - val_loss: 0.0250 - val_acc: 0.9918\n",
      "Large CNN Error: 0.82%\n"
     ]
    }
   ],
   "source": [
    "# build the model\n",
    "model = larger_model()\n",
    "# Fit the model\n",
    "model.fit(X_train, y_train, validation_data=(X_test, y_test), epochs=10, batch_size=200)\n",
    "# Final evaluation of the model\n",
    "scores = model.evaluate(X_test, y_test, verbose=0)\n",
    "print(\"Large CNN Error: %.2f%%\" % (100-scores[1] * 100))\n"
   ]
  },
  {
   "cell_type": "code",
   "execution_count": null,
   "metadata": {
    "collapsed": true
   },
   "outputs": [],
   "source": []
  }
 ],
 "metadata": {
  "kernelspec": {
   "display_name": "Python 3",
   "language": "python",
   "name": "python3"
  },
  "language_info": {
   "codemirror_mode": {
    "name": "ipython",
    "version": 3
   },
   "file_extension": ".py",
   "mimetype": "text/x-python",
   "name": "python",
   "nbconvert_exporter": "python",
   "pygments_lexer": "ipython3",
   "version": "3.5.3"
  }
 },
 "nbformat": 4,
 "nbformat_minor": 2
}
