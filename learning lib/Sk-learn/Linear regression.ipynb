{
 "cells": [
  {
   "cell_type": "code",
   "execution_count": 48,
   "metadata": {},
   "outputs": [
    {
     "data": {
      "image/png": "[encoded data removed]",
      "text/plain": [
       "<matplotlib.figure.Figure at 0x7f4cb21220f0>"
      ]
     },
     "metadata": {},
     "output_type": "display_data"
    }
   ],
   "source": [
    "import matplotlib.pyplot as plt\n",
    "import numpy as np\n",
    "%matplotlib inline\n",
    "X = [6, 8, 10, 14, 18]\n",
    "X = np.array(X).reshape((-1, 1))\n",
    "y = [7, 9, 13, 17.5, 18]\n",
    "y = np.array(y).reshape((-1, 1))\n",
    "plt.figure()\n",
    "plt.title('Pizza pricing plotted against diameter')\n",
    "plt.xlabel('Diameter in inches')\n",
    "plt.ylabel('Price in dollars')\n",
    "plt.plot(X,y, 'k.')\n",
    "plt.axis([0,25,0,25])\n",
    "plt.grid(True)\n",
    "plt.show()"
   ]
  },
  {
   "cell_type": "code",
   "execution_count": 42,
   "metadata": {},
   "outputs": [
    {
     "name": "stdout",
     "output_type": "stream",
     "text": [
      "[[ 6]\n",
      " [ 8]\n",
      " [10]\n",
      " [14]\n",
      " [18]]\n",
      "[[  7. ]\n",
      " [  9. ]\n",
      " [ 13. ]\n",
      " [ 17.5]\n",
      " [ 18. ]]\n",
      "A 12\" pizza should cost: $13.68\n"
     ]
    }
   ],
   "source": [
    "from sklearn.linear_model import LinearRegression\n",
    "model = LinearRegression()\n",
    "X = [6, 8, 10, 14, 18]\n",
    "y = [7, 9, 13, 17.5, 18]\n",
    "X = np.array(X).reshape((-1, 1))\n",
    "print(X)\n",
    "y = np.array(y).reshape((-1, 1))\n",
    "print(y)\n",
    "model.fit(X,y)\n",
    "print('A 12\" pizza should cost: $%.2f' % model.predict(12))"
   ]
  },
  {
   "cell_type": "markdown",
   "metadata": {},
   "source": [
    "### The Equation\n",
    "y = B0 + B1 * x\n",
    "\n",
    "\n",
    "B1 = $\\frac{\\sum\\limits_{i=0}^{n}(x_i - mean(x)) * (y_i - mean(y)}{\\sum\\limits_{i=0}^{n}(x_i - mean(x))^2}$ \n",
    "\n",
    "or\n",
    "\n",
    "B1 = corr(x,y) * $\\frac{stdev(y)}{stdev(x)}$\n",
    "\n",
    "B0 = mean(y) - B1 * mean(x)\n",
    "\n",
    "### Error Estimation\n",
    "\n",
    "RMSE = $\\sqrt{\\frac{\\sum\\limits_{i=0}^{n}(p_i - y_i)^2}{n}}$"
   ]
  },
  {
   "cell_type": "code",
   "execution_count": 59,
   "metadata": {},
   "outputs": [
    {
     "name": "stdout",
     "output_type": "stream",
     "text": [
      "11.2\n",
      "23.2\n",
      "23.2\n"
     ]
    }
   ],
   "source": [
    "# Simple LinearRegression fomular: y = aX + e\n",
    "# y = output\n",
    "# x = input\n",
    "# e = error\n",
    "# a = coefficient\n",
    "\n",
    "# let find the best 'e' and' 'a'\n",
    "\n",
    "xbar = (6+8+10+14+18)/5\n",
    "print(xbar)\n",
    "variance = ((6 - xbar)**2 + (8 - xbar)**2 + (10 - xbar)**2 + (14 - xbar)**2  + (18 - xbar)**2) / 4\n",
    "print(variance)\n",
    "#  or\n",
    "print(np.var([6, 8, 10, 14, 18], ddof=1))"
   ]
  },
  {
   "cell_type": "code",
   "execution_count": 64,
   "metadata": {},
   "outputs": [
    {
     "name": "stdout",
     "output_type": "stream",
     "text": [
      "[[ 10.0625    ]\n",
      " [ 10.28125   ]\n",
      " [ 13.09375   ]\n",
      " [ 18.14583333]\n",
      " [ 13.3125    ]]\n",
      "Predicted: [ 10.0625], Target: [11]\n",
      "Predicted: [ 10.28125], Target: [8.5]\n",
      "Predicted: [ 13.09375], Target: [15]\n",
      "Predicted: [ 18.14583333], Target: [18]\n",
      "Predicted: [ 13.3125], Target: [11]\n"
     ]
    }
   ],
   "source": [
    "# N diamotion\n",
    "from sklearn.linear_model import LinearRegression\n",
    "X = [[6,2], [8,1], [10,0], [14,2], [18,0]]\n",
    "y = [[7], [9], [13], [17.5], [18]]\n",
    "model = LinearRegression()\n",
    "model.fit(X,y)\n",
    "X_test = [[8,2], [9,0], [11,2], [16,2], [12, 0]]\n",
    "y_test = [[11], [8.5], [15], [18], [11]]\n",
    "predictions = model.predict(X_test)\n",
    "print(predictions)\n",
    "for i, prediction in enumerate(predictions):\n",
    "    print('Predicted: %s, Target: %s' % (prediction, y_test[i]))"
   ]
  },
  {
   "cell_type": "code",
   "execution_count": 77,
   "metadata": {},
   "outputs": [
    {
     "data": {
      "image/png": "[encoded data removed]",
      "text/plain": [
       "<matplotlib.figure.Figure at 0x7f4ca6c52748>"
      ]
     },
     "metadata": {},
     "output_type": "display_data"
    },
    {
     "name": "stdout",
     "output_type": "stream",
     "text": [
      "[[6], [8], [10], [14], [18]]\n",
      "[[   1.    6.   36.]\n",
      " [   1.    8.   64.]\n",
      " [   1.   10.  100.]\n",
      " [   1.   14.  196.]\n",
      " [   1.   18.  324.]]\n",
      "[[6], [8], [11], [16]]\n",
      "[[   1.    6.   36.]\n",
      " [   1.    8.   64.]\n",
      " [   1.   11.  121.]\n",
      " [   1.   16.  256.]]\n",
      "Simple linear regression r-squared 0.809726797708\n",
      "Quadratic regression r-squared 0.867544365635\n"
     ]
    }
   ],
   "source": [
    "from sklearn.linear_model import LinearRegression\n",
    "from sklearn.preprocessing import PolynomialFeatures\n",
    "X_train =[[6], [8], [10] ,[14], [18]]\n",
    "y_train = [[7],[9],[13], [17.5], [18]]\n",
    "\n",
    "X_test = [[6],[8], [11], [16]]\n",
    "y_test = [[8], [12], [15], [18]]\n",
    "\n",
    "regressor = LinearRegression()\n",
    "regressor.fit(X_train, y_train)\n",
    "\n",
    "xx = np.linspace(0,26, 100)\n",
    "#print(xx)\n",
    "yy = regressor.predict(xx.reshape(xx.shape[0], 1))\n",
    "#print(yy)\n",
    "plt.plot(xx, yy)\n",
    "\n",
    "quadratic_featurizer = PolynomialFeatures(degree=2)\n",
    "X_train_quadratic = quadratic_featurizer.fit_transform(X_train)\n",
    "X_test_quadratic = quadratic_featurizer.transform(X_test)\n",
    "\n",
    "regressor_quadratic = LinearRegression()\n",
    "regressor_quadratic.fit(X_train_quadratic, y_train)\n",
    "xx_quadratic = quadratic_featurizer.transform(xx.reshape(xx.shape[0], 1))\n",
    "\n",
    "plt.plot(xx, regressor_quadratic.predict(xx_quadratic), c='r', linestyle='--')\n",
    "plt.title('Pizza pricing regressed on diameter')\n",
    "plt.xlabel('Diameter in inches')\n",
    "plt.ylabel('Pricing in dollars')\n",
    "plt.axis([0,25,0,25])\n",
    "plt.grid(True)\n",
    "plt.scatter(X_train, y_train)\n",
    "plt.show()\n",
    "\n",
    "print(X_train)\n",
    "print(X_train_quadratic)\n",
    "print(X_test)\n",
    "print(X_test_quadratic)\n",
    "print('Simple linear regression r-squared', regressor.score(X_test, y_test))\n",
    "print('Quadratic regression r-squared', regressor_quadratic.score(X_test_quadratic, y_test))"
   ]
  },
  {
   "cell_type": "markdown",
   "metadata": {},
   "source": [
    "## Applying regression"
   ]
  },
  {
   "cell_type": "code",
   "execution_count": 81,
   "metadata": {},
   "outputs": [
    {
     "data": {
      "text/html": [
       "<div>\n",
       "<table border=\"1\" class=\"dataframe\">\n",
       "  <thead>\n",
       "    <tr style=\"text-align: right;\">\n",
       "      <th></th>\n",
       "      <th>fixed acidity</th>\n",
       "      <th>volatile acidity</th>\n",
       "      <th>citric acid</th>\n",
       "      <th>residual sugar</th>\n",
       "      <th>chlorides</th>\n",
       "      <th>free sulfur dioxide</th>\n",
       "      <th>total sulfur dioxide</th>\n",
       "      <th>density</th>\n",
       "      <th>pH</th>\n",
       "      <th>sulphates</th>\n",
       "      <th>alcohol</th>\n",
       "      <th>quality</th>\n",
       "    </tr>\n",
       "  </thead>\n",
       "  <tbody>\n",
       "    <tr>\n",
       "      <th>count</th>\n",
       "      <td>1599.000000</td>\n",
       "      <td>1599.000000</td>\n",
       "      <td>1599.000000</td>\n",
       "      <td>1599.000000</td>\n",
       "      <td>1599.000000</td>\n",
       "      <td>1599.000000</td>\n",
       "      <td>1599.000000</td>\n",
       "      <td>1599.000000</td>\n",
       "      <td>1599.000000</td>\n",
       "      <td>1599.000000</td>\n",
       "      <td>1599.000000</td>\n",
       "      <td>1599.000000</td>\n",
       "    </tr>\n",
       "    <tr>\n",
       "      <th>mean</th>\n",
       "      <td>8.319637</td>\n",
       "      <td>0.527821</td>\n",
       "      <td>0.270976</td>\n",
       "      <td>2.538806</td>\n",
       "      <td>0.087467</td>\n",
       "      <td>15.874922</td>\n",
       "      <td>46.467792</td>\n",
       "      <td>0.996747</td>\n",
       "      <td>3.311113</td>\n",
       "      <td>0.658149</td>\n",
       "      <td>10.422983</td>\n",
       "      <td>5.636023</td>\n",
       "    </tr>\n",
       "    <tr>\n",
       "      <th>std</th>\n",
       "      <td>1.741096</td>\n",
       "      <td>0.179060</td>\n",
       "      <td>0.194801</td>\n",
       "      <td>1.409928</td>\n",
       "      <td>0.047065</td>\n",
       "      <td>10.460157</td>\n",
       "      <td>32.895324</td>\n",
       "      <td>0.001887</td>\n",
       "      <td>0.154386</td>\n",
       "      <td>0.169507</td>\n",
       "      <td>1.065668</td>\n",
       "      <td>0.807569</td>\n",
       "    </tr>\n",
       "    <tr>\n",
       "      <th>min</th>\n",
       "      <td>4.600000</td>\n",
       "      <td>0.120000</td>\n",
       "      <td>0.000000</td>\n",
       "      <td>0.900000</td>\n",
       "      <td>0.012000</td>\n",
       "      <td>1.000000</td>\n",
       "      <td>6.000000</td>\n",
       "      <td>0.990070</td>\n",
       "      <td>2.740000</td>\n",
       "      <td>0.330000</td>\n",
       "      <td>8.400000</td>\n",
       "      <td>3.000000</td>\n",
       "    </tr>\n",
       "    <tr>\n",
       "      <th>25%</th>\n",
       "      <td>7.100000</td>\n",
       "      <td>0.390000</td>\n",
       "      <td>0.090000</td>\n",
       "      <td>1.900000</td>\n",
       "      <td>0.070000</td>\n",
       "      <td>7.000000</td>\n",
       "      <td>22.000000</td>\n",
       "      <td>0.995600</td>\n",
       "      <td>3.210000</td>\n",
       "      <td>0.550000</td>\n",
       "      <td>9.500000</td>\n",
       "      <td>5.000000</td>\n",
       "    </tr>\n",
       "    <tr>\n",
       "      <th>50%</th>\n",
       "      <td>7.900000</td>\n",
       "      <td>0.520000</td>\n",
       "      <td>0.260000</td>\n",
       "      <td>2.200000</td>\n",
       "      <td>0.079000</td>\n",
       "      <td>14.000000</td>\n",
       "      <td>38.000000</td>\n",
       "      <td>0.996750</td>\n",
       "      <td>3.310000</td>\n",
       "      <td>0.620000</td>\n",
       "      <td>10.200000</td>\n",
       "      <td>6.000000</td>\n",
       "    </tr>\n",
       "    <tr>\n",
       "      <th>75%</th>\n",
       "      <td>9.200000</td>\n",
       "      <td>0.640000</td>\n",
       "      <td>0.420000</td>\n",
       "      <td>2.600000</td>\n",
       "      <td>0.090000</td>\n",
       "      <td>21.000000</td>\n",
       "      <td>62.000000</td>\n",
       "      <td>0.997835</td>\n",
       "      <td>3.400000</td>\n",
       "      <td>0.730000</td>\n",
       "      <td>11.100000</td>\n",
       "      <td>6.000000</td>\n",
       "    </tr>\n",
       "    <tr>\n",
       "      <th>max</th>\n",
       "      <td>15.900000</td>\n",
       "      <td>1.580000</td>\n",
       "      <td>1.000000</td>\n",
       "      <td>15.500000</td>\n",
       "      <td>0.611000</td>\n",
       "      <td>72.000000</td>\n",
       "      <td>289.000000</td>\n",
       "      <td>1.003690</td>\n",
       "      <td>4.010000</td>\n",
       "      <td>2.000000</td>\n",
       "      <td>14.900000</td>\n",
       "      <td>8.000000</td>\n",
       "    </tr>\n",
       "  </tbody>\n",
       "</table>\n",
       "</div>"
      ],
      "text/plain": [
       "       fixed acidity  volatile acidity  citric acid  residual sugar  \\\n",
       "count    1599.000000       1599.000000  1599.000000     1599.000000   \n",
       "mean        8.319637          0.527821     0.270976        2.538806   \n",
       "std         1.741096          0.179060     0.194801        1.409928   \n",
       "min         4.600000          0.120000     0.000000        0.900000   \n",
       "25%         7.100000          0.390000     0.090000        1.900000   \n",
       "50%         7.900000          0.520000     0.260000        2.200000   \n",
       "75%         9.200000          0.640000     0.420000        2.600000   \n",
       "max        15.900000          1.580000     1.000000       15.500000   \n",
       "\n",
       "         chlorides  free sulfur dioxide  total sulfur dioxide      density  \\\n",
       "count  1599.000000          1599.000000           1599.000000  1599.000000   \n",
       "mean      0.087467            15.874922             46.467792     0.996747   \n",
       "std       0.047065            10.460157             32.895324     0.001887   \n",
       "min       0.012000             1.000000              6.000000     0.990070   \n",
       "25%       0.070000             7.000000             22.000000     0.995600   \n",
       "50%       0.079000            14.000000             38.000000     0.996750   \n",
       "75%       0.090000            21.000000             62.000000     0.997835   \n",
       "max       0.611000            72.000000            289.000000     1.003690   \n",
       "\n",
       "                pH    sulphates      alcohol      quality  \n",
       "count  1599.000000  1599.000000  1599.000000  1599.000000  \n",
       "mean      3.311113     0.658149    10.422983     5.636023  \n",
       "std       0.154386     0.169507     1.065668     0.807569  \n",
       "min       2.740000     0.330000     8.400000     3.000000  \n",
       "25%       3.210000     0.550000     9.500000     5.000000  \n",
       "50%       3.310000     0.620000    10.200000     6.000000  \n",
       "75%       3.400000     0.730000    11.100000     6.000000  \n",
       "max       4.010000     2.000000    14.900000     8.000000  "
      ]
     },
     "execution_count": 81,
     "metadata": {},
     "output_type": "execute_result"
    }
   ],
   "source": [
    "import pandas as pd\n",
    "header = ['']\n",
    "df = pd.read_csv('winequality-red.csv', sep=';')\n",
    "df.describe()"
   ]
  },
  {
   "cell_type": "code",
   "execution_count": 82,
   "metadata": {},
   "outputs": [
    {
     "data": {
      "image/png": "[encoded data removed]",
      "text/plain": [
       "<matplotlib.figure.Figure at 0x7f4ca6ba2d68>"
      ]
     },
     "metadata": {},
     "output_type": "display_data"
    }
   ],
   "source": [
    "plt.scatter(df['alcohol'], df['quality'])\n",
    "plt.xlabel('Alcohol')\n",
    "plt.ylabel('Quality')\n",
    "plt.title('Alcohol Against Quality')\n",
    "plt.show()"
   ]
  },
  {
   "cell_type": "code",
   "execution_count": 85,
   "metadata": {},
   "outputs": [
    {
     "name": "stdout",
     "output_type": "stream",
     "text": [
      "R-squared:  0.369087019536\n"
     ]
    }
   ],
   "source": [
    "from sklearn.linear_model import LinearRegression\n",
    "import pandas as pd\n",
    "import matplotlib.pyplot as plt\n",
    "from sklearn.cross_validation import train_test_split\n",
    "\n",
    "df = pd.read_csv('winequality-red.csv', sep=';')\n",
    "X = df[list(df.columns)[:-1]]\n",
    "y = df['quality']\n",
    "X_train, X_test, y_train, y_test = train_test_split(X,y)\n",
    "\n",
    "regressor = LinearRegression()\n",
    "regressor.fit(X_train, y_train)\n",
    "y_predictions = regressor.predict(X_test)\n",
    "print('R-squared: ', regressor.score(X_test, y_test))"
   ]
  },
  {
   "cell_type": "code",
   "execution_count": 88,
   "metadata": {},
   "outputs": [
    {
     "name": "stdout",
     "output_type": "stream",
     "text": [
      "0.290041628842 [ 0.13200871  0.31858135  0.34955348  0.369145    0.2809196 ]\n"
     ]
    }
   ],
   "source": [
    "import pandas as pd\n",
    "from sklearn.cross_validation import cross_val_score\n",
    "from sklearn.linear_model import LinearRegression\n",
    "df = pd.read_csv('winequality-red.csv', sep=';')\n",
    "X = df[list(df.columns)[:-1]]\n",
    "y = df['quality']\n",
    "regressor = LinearRegression()\n",
    "scores = cross_val_score(regressor, X, y, cv=5)\n",
    "print( scores.mean(), scores)"
   ]
  },
  {
   "cell_type": "code",
   "execution_count": 116,
   "metadata": {},
   "outputs": [
    {
     "name": "stdout",
     "output_type": "stream",
     "text": [
      "Cross validation r-squares scores:  [ 0.72828357  0.76042194  0.63273263  0.56298706  0.73521356]\n",
      "Average cross validation r-squared score:  0.683927752102\n",
      "Test set r-squared score 0.750907784149\n"
     ]
    },
    {
     "name": "stderr",
     "output_type": "stream",
     "text": [
      "/usr/local/lib/python3.5/site-packages/sklearn/utils/validation.py:526: DataConversionWarning: A column-vector y was passed when a 1d array was expected. Please change the shape of y to (n_samples, ), for example using ravel().\n",
      "  y = column_or_1d(y, warn=True)\n",
      "/usr/local/lib/python3.5/site-packages/sklearn/utils/validation.py:526: DataConversionWarning: A column-vector y was passed when a 1d array was expected. Please change the shape of y to (n_samples, ), for example using ravel().\n",
      "  y = column_or_1d(y, warn=True)\n",
      "/usr/local/lib/python3.5/site-packages/sklearn/utils/validation.py:526: DataConversionWarning: A column-vector y was passed when a 1d array was expected. Please change the shape of y to (n_samples, ), for example using ravel().\n",
      "  y = column_or_1d(y, warn=True)\n",
      "/usr/local/lib/python3.5/site-packages/sklearn/utils/validation.py:526: DataConversionWarning: A column-vector y was passed when a 1d array was expected. Please change the shape of y to (n_samples, ), for example using ravel().\n",
      "  y = column_or_1d(y, warn=True)\n",
      "/usr/local/lib/python3.5/site-packages/sklearn/utils/validation.py:526: DataConversionWarning: A column-vector y was passed when a 1d array was expected. Please change the shape of y to (n_samples, ), for example using ravel().\n",
      "  y = column_or_1d(y, warn=True)\n",
      "/usr/local/lib/python3.5/site-packages/sklearn/utils/deprecation.py:70: DeprecationWarning: Function transform is deprecated; Support to use estimators as feature selectors will be removed in version 0.19. Use SelectFromModel instead.\n",
      "  warnings.warn(msg, category=DeprecationWarning)\n"
     ]
    }
   ],
   "source": [
    "# Stochastic Gradient Descent (SGD) Regressor\n",
    "import numpy as np\n",
    "from  sklearn.datasets import load_boston\n",
    "from sklearn.linear_model import SGDRegressor\n",
    "from sklearn.cross_validation import cross_val_score\n",
    "from sklearn.preprocessing import StandardScaler\n",
    "from sklearn.cross_validation import train_test_split\n",
    "\n",
    "data = load_boston()\n",
    "X_train, X_test, y_train, y_test = train_test_split(data.data, data.target)\n",
    "X_scaler = StandardScaler()\n",
    "y_scaler = StandardScaler()\n",
    "X_train  = X_scaler.fit_transform(X_train)\n",
    "y_train = y_train.reshape(y_train.shape[0], 1)\n",
    "y_test = y_test.reshape(y_test.shape[0], 1)\n",
    "#print(y_train.reshape(y_train.shape[0], 1))\n",
    "y_train = y_scaler.fit_transform(y_train)\n",
    "X_test = X_scaler.transform(X_test)\n",
    "y_test = y_scaler.transform(y_test)\n",
    "\n",
    "regressor = SGDRegressor(loss='squared_loss')\n",
    "#print(X_train.reshape(X_train.shape[1] * X_train.shape[0], 1))\n",
    "scores = cross_val_score(regressor, X_train, y_train, cv=5)\n",
    "print('Cross validation r-squares scores: ', scores)\n",
    "print('Average cross validation r-squared score: ', np.mean(scores))\n",
    "regressor.fit_transform(X_train, y_train)\n",
    "print('Test set r-squared score', regressor.score(X_test, y_test))"
   ]
  },
  {
   "cell_type": "code",
   "execution_count": null,
   "metadata": {
    "collapsed": true
   },
   "outputs": [],
   "source": []
  }
 ],
 "metadata": {
  "kernelspec": {
   "display_name": "Python 3",
   "language": "python",
   "name": "python3"
  },
  "language_info": {
   "codemirror_mode": {
    "name": "ipython",
    "version": 3
   },
   "file_extension": ".py",
   "mimetype": "text/x-python",
   "name": "python",
   "nbconvert_exporter": "python",
   "pygments_lexer": "ipython3",
   "version": "3.5.3"
  }
 },
 "nbformat": 4,
 "nbformat_minor": 2
}
