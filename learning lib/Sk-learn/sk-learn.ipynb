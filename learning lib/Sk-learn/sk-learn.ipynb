{
 "cells": [
  {
   "cell_type": "code",
   "execution_count": 1,
   "metadata": {
    "collapsed": true
   },
   "outputs": [],
   "source": [
    "from sklearn import datasets\n",
    "import numpy as np"
   ]
  },
  {
   "cell_type": "code",
   "execution_count": 2,
   "metadata": {},
   "outputs": [
    {
     "name": "stdout",
     "output_type": "stream",
     "text": [
      "Boston House Prices dataset\n",
      "===========================\n",
      "\n",
      "Notes\n",
      "------\n",
      "Data Set Characteristics:  \n",
      "\n",
      "    :Number of Instances: 506 \n",
      "\n",
      "    :Number of Attributes: 13 numeric/categorical predictive\n",
      "    \n",
      "    :Median Value (attribute 14) is usually the target\n",
      "\n",
      "    :Attribute Information (in order):\n",
      "        - CRIM     per capita crime rate by town\n",
      "        - ZN       proportion of residential land zoned for lots over 25,000 sq.ft.\n",
      "        - INDUS    proportion of non-retail business acres per town\n",
      "        - CHAS     Charles River dummy variable (= 1 if tract bounds river; 0 otherwise)\n",
      "        - NOX      nitric oxides concentration (parts per 10 million)\n",
      "        - RM       average number of rooms per dwelling\n",
      "        - AGE      proportion of owner-occupied units built prior to 1940\n",
      "        - DIS      weighted distances to five Boston employment centres\n",
      "        - RAD      index of accessibility to radial highways\n",
      "        - TAX      full-value property-tax rate per $10,000\n",
      "        - PTRATIO  pupil-teacher ratio by town\n",
      "        - B        1000(Bk - 0.63)^2 where Bk is the proportion of blacks by town\n",
      "        - LSTAT    % lower status of the population\n",
      "        - MEDV     Median value of owner-occupied homes in $1000's\n",
      "\n",
      "    :Missing Attribute Values: None\n",
      "\n",
      "    :Creator: Harrison, D. and Rubinfeld, D.L.\n",
      "\n",
      "This is a copy of UCI ML housing dataset.\n",
      "http://archive.ics.uci.edu/ml/datasets/Housing\n",
      "\n",
      "\n",
      "This dataset was taken from the StatLib library which is maintained at Carnegie Mellon University.\n",
      "\n",
      "The Boston house-price data of Harrison, D. and Rubinfeld, D.L. 'Hedonic\n",
      "prices and the demand for clean air', J. Environ. Economics & Management,\n",
      "vol.5, 81-102, 1978.   Used in Belsley, Kuh & Welsch, 'Regression diagnostics\n",
      "...', Wiley, 1980.   N.B. Various transformations are used in the table on\n",
      "pages 244-261 of the latter.\n",
      "\n",
      "The Boston house-price data has been used in many machine learning papers that address regression\n",
      "problems.   \n",
      "     \n",
      "**References**\n",
      "\n",
      "   - Belsley, Kuh & Welsch, 'Regression diagnostics: Identifying Influential Data and Sources of Collinearity', Wiley, 1980. 244-261.\n",
      "   - Quinlan,R. (1993). Combining Instance-Based and Model-Based Learning. In Proceedings on the Tenth International Conference of Machine Learning, 236-243, University of Massachusetts, Amherst. Morgan Kaufmann.\n",
      "   - many more! (see http://archive.ics.uci.edu/ml/datasets/Housing)\n",
      "\n"
     ]
    }
   ],
   "source": [
    "boston = datasets.load_boston()\n",
    "print(boston.DESCR)"
   ]
  },
  {
   "cell_type": "code",
   "execution_count": 3,
   "metadata": {},
   "outputs": [
    {
     "name": "stdout",
     "output_type": "stream",
     "text": [
      "California housing dataset.\n",
      "\n",
      "The original database is available from StatLib\n",
      "\n",
      "    http://lib.stat.cmu.edu/\n",
      "\n",
      "The data contains 20,640 observations on 9 variables.\n",
      "\n",
      "This dataset contains the average house value as target variable\n",
      "and the following input variables (features): average income,\n",
      "housing average age, average rooms, average bedrooms, population,\n",
      "average occupation, latitude, and longitude in that order.\n",
      "\n",
      "References\n",
      "----------\n",
      "\n",
      "Pace, R. Kelley and Ronald Barry, Sparse Spatial Autoregressions,\n",
      "Statistics and Probability Letters, 33 (1997) 291-297.\n",
      "\n",
      "\n"
     ]
    }
   ],
   "source": [
    "hoursing = datasets.fetch_california_housing()\n",
    "print(hoursing.DESCR)"
   ]
  },
  {
   "cell_type": "code",
   "execution_count": 4,
   "metadata": {
    "collapsed": true
   },
   "outputs": [],
   "source": [
    "X,y = boston.data, boston.target"
   ]
  },
  {
   "cell_type": "code",
   "execution_count": 5,
   "metadata": {
    "collapsed": true
   },
   "outputs": [],
   "source": [
    "import sklearn.datasets as d\n",
    "import numpy as np"
   ]
  },
  {
   "cell_type": "code",
   "execution_count": 6,
   "metadata": {},
   "outputs": [
    {
     "data": {
      "text/plain": [
       "(array([[-0.90390471,  2.52497627,  0.70971832, ...,  2.41835085,\n",
       "         -0.81847806,  0.35227245],\n",
       "        [-1.8218028 ,  0.52734473,  0.69680973, ..., -1.00634316,\n",
       "          1.20760746, -1.01455349],\n",
       "        [ 0.09639737, -0.29375919, -1.19297988, ...,  0.04091086,\n",
       "          0.9130323 ,  0.09474403],\n",
       "        ..., \n",
       "        [ 0.60270348,  0.07588815,  1.59155297, ..., -0.32679333,\n",
       "         -0.08046831,  1.7012388 ],\n",
       "        [ 2.11511259,  1.14319073,  1.53558612, ...,  2.5815518 ,\n",
       "          2.66009638,  1.36141204],\n",
       "        [ 0.48514408, -1.2977222 , -1.08492992, ..., -0.59898997,\n",
       "         -0.82955649, -1.87348424]]),\n",
       " array([ -79.42364535, -231.68056558,   58.55466039,  -81.33432945,\n",
       "         245.47710066,  -10.52565736,   13.05521527, -384.03729763,\n",
       "         -78.05280788,  110.62705461,   84.6867485 ,  142.78949616,\n",
       "          16.03256261, -127.74043366,   32.1505999 , -458.29517157,\n",
       "         100.34458609,  -57.82184347,  -38.19949261,  157.04271403,\n",
       "         266.10037891,  -77.68144894, -208.23598067,   90.86958638,\n",
       "        -157.06243055,  109.27521157,   64.23737741,  -48.3052475 ,\n",
       "          -6.22287607,  246.00455627, -217.25945468,  153.75077125,\n",
       "          83.36082555,  -54.91849841, -148.64189059,  -95.22868623,\n",
       "         159.03611861,  112.25218262,  -61.90271964,  -79.82117919,\n",
       "         -88.21899313,  186.52924302,   47.37695308,  -25.47216485,\n",
       "        -210.56402692,  -73.09599078,  131.36024507, -197.36661043,\n",
       "        -319.92280805,   32.83694657,  125.74024261, -299.65987134,\n",
       "         155.65386713,  319.61721436,  -32.07737145,  -89.86234652,\n",
       "         158.35157613, -243.22422116,    4.99802605,  173.57158802,\n",
       "        -222.20509345,   34.72302758,  321.19466118,  -60.20777168,\n",
       "        -272.87819839,  131.60071531,   -6.41624969,  -57.47734483,\n",
       "          35.46267672,   42.82325672,   75.94655116,   24.54368349,\n",
       "          80.69139245,  253.78005166,   86.72107522,  124.33775186,\n",
       "        -105.13773288,   83.14613268,  -86.15353874,   94.68708908,\n",
       "         -48.32271419, -141.51885082,  118.87068126,  -79.98171279,\n",
       "          67.71144777, -150.62865727, -186.94311821,  243.949252  ,\n",
       "         -89.72368462,   61.06597025, -285.66727266,  -42.32661733,\n",
       "         247.64964193,  -51.30784129,  -94.42869906,  152.84452597,\n",
       "         -56.53497502, -261.83918812, -191.970804  ,  -95.88515481]))"
      ]
     },
     "execution_count": 6,
     "metadata": {},
     "output_type": "execute_result"
    }
   ],
   "source": [
    "reg_data = d.make_regression()\n",
    "reg_data"
   ]
  },
  {
   "cell_type": "code",
   "execution_count": 7,
   "metadata": {},
   "outputs": [
    {
     "data": {
      "text/plain": [
       "array([10, 90])"
      ]
     },
     "execution_count": 7,
     "metadata": {},
     "output_type": "execute_result"
    }
   ],
   "source": [
    "classification_set = d.make_classification(weights=[0.1])\n",
    "np.bincount(classification_set[1])"
   ]
  },
  {
   "cell_type": "code",
   "execution_count": 8,
   "metadata": {},
   "outputs": [
    {
     "data": {
      "text/plain": [
       "(array([[  4.88854980e+00,  -2.18042989e+00],\n",
       "        [  6.74597864e+00,  -6.17975086e-01],\n",
       "        [  5.87929979e+00,  -3.25459122e+00],\n",
       "        [  1.23944665e+00,   5.57801982e+00],\n",
       "        [ -5.05431396e+00,  -8.02530498e+00],\n",
       "        [ -9.60664888e-01,   7.16788302e+00],\n",
       "        [ -9.54546045e-01,   6.84518257e+00],\n",
       "        [  6.17134165e-01,   4.97480244e+00],\n",
       "        [ -2.05353791e+00,   5.92040677e+00],\n",
       "        [ -1.86177014e+00,  -7.99431865e+00],\n",
       "        [ -1.34055217e+00,   4.29564795e+00],\n",
       "        [ -8.56825475e-01,   4.85162917e+00],\n",
       "        [  6.23645239e+00,  -9.39528128e-01],\n",
       "        [ -9.72798160e-01,   5.73636493e+00],\n",
       "        [  5.25057181e+00,  -6.38933540e-01],\n",
       "        [  5.89810149e+00,  -9.11436013e-03],\n",
       "        [ -3.25732483e+00,  -7.31685278e+00],\n",
       "        [  3.67932642e+00,  -1.58957503e+00],\n",
       "        [ -4.34034423e+00,  -7.88456300e+00],\n",
       "        [  4.44343993e+00,  -6.90886381e-01],\n",
       "        [  6.97577745e+00,  -1.75497848e+00],\n",
       "        [  5.51451843e+00,  -2.05423339e+00],\n",
       "        [ -3.29680306e+00,  -7.32182861e+00],\n",
       "        [  5.10685706e+00,  -1.93718615e+00],\n",
       "        [ -7.74523720e-01,   7.59184248e+00],\n",
       "        [ -1.14319358e+00,   5.41610680e+00],\n",
       "        [ -2.74765047e+00,  -7.64343226e+00],\n",
       "        [ -2.26491868e+00,  -5.62552534e+00],\n",
       "        [ -2.29678849e+00,   5.04193561e+00],\n",
       "        [  6.18743815e+00,  -1.23020813e+00],\n",
       "        [  6.76709696e+00,  -2.43800333e+00],\n",
       "        [  4.96493292e+00,  -1.31222014e+00],\n",
       "        [ -5.91356011e-02,   7.02500998e+00],\n",
       "        [ -6.69400810e-01,   5.06053322e+00],\n",
       "        [  7.19566005e+00,   5.65552660e-01],\n",
       "        [ -4.55860893e+00,  -7.88282176e+00],\n",
       "        [  3.89245456e+00,  -2.53912168e-02],\n",
       "        [  6.56167920e+00,  -1.56085615e+00],\n",
       "        [ -2.45808948e+00,  -9.24026124e+00],\n",
       "        [  7.67845620e+00,  -1.32864870e+00],\n",
       "        [  5.17940094e+00,   1.70454284e-01],\n",
       "        [ -1.85778319e+00,   6.40143378e+00],\n",
       "        [  5.29932463e+00,  -2.72763308e-01],\n",
       "        [ -2.07191430e-01,   5.53539059e+00],\n",
       "        [ -3.45191926e+00,  -8.28434116e+00],\n",
       "        [  4.20393091e-01,   7.60669137e+00],\n",
       "        [ -3.29617516e+00,   6.73054961e+00],\n",
       "        [ -2.29135045e+00,  -7.52965017e+00],\n",
       "        [ -3.21164762e+00,  -6.10805935e+00],\n",
       "        [ -4.48932090e+00,  -7.59460261e+00],\n",
       "        [  8.74949839e-02,   5.53288450e+00],\n",
       "        [ -5.09176576e-01,   6.61062137e+00],\n",
       "        [ -8.84540481e-01,   6.24312114e+00],\n",
       "        [ -1.63990357e+00,  -6.94469606e+00],\n",
       "        [ -3.85976147e+00,  -9.58067846e+00],\n",
       "        [  5.36730428e+00,  -1.80569311e+00],\n",
       "        [  4.12129129e-01,   6.95100353e+00],\n",
       "        [ -5.24386583e+00,  -6.72933187e+00],\n",
       "        [ -2.76058712e-01,   5.61922617e+00],\n",
       "        [ -1.78779044e-01,   6.02337441e+00],\n",
       "        [ -2.44072672e+00,  -7.97605069e+00],\n",
       "        [ -2.29764074e+00,  -7.28717598e+00],\n",
       "        [  5.44512436e+00,   1.41318045e+00],\n",
       "        [  5.84385111e+00,   2.42409880e-01],\n",
       "        [  6.22240515e-01,   6.06047099e+00],\n",
       "        [ -2.50372463e+00,  -4.94627441e+00],\n",
       "        [  8.12189837e+00,  -2.56791317e+00],\n",
       "        [  6.77934369e+00,  -4.97617194e-01],\n",
       "        [  6.67760282e+00,  -9.60309764e-01],\n",
       "        [  5.00160585e-01,   6.63121951e+00],\n",
       "        [ -3.72293382e+00,  -7.14476997e+00],\n",
       "        [ -3.61296486e+00,  -8.95726367e+00],\n",
       "        [  4.73687353e+00,  -1.26616009e+00],\n",
       "        [ -4.29617440e+00,  -8.14577611e+00],\n",
       "        [ -4.31540319e+00,  -7.91788812e+00],\n",
       "        [  4.78511048e+00,  -2.81682025e+00],\n",
       "        [ -3.69591161e+00,  -8.78851269e+00],\n",
       "        [ -2.55578910e+00,  -7.84507028e+00],\n",
       "        [ -2.55859749e-02,   7.18099840e+00],\n",
       "        [ -4.10101434e-01,   5.27602633e+00],\n",
       "        [  4.28917447e+00,  -1.47085274e+00],\n",
       "        [ -3.91063155e+00,  -7.14405756e+00],\n",
       "        [  6.46319832e+00,  -2.89411864e+00],\n",
       "        [ -2.36493312e+00,  -9.51792097e+00],\n",
       "        [ -6.53230822e-01,   5.64673940e+00],\n",
       "        [  6.00472242e+00,  -9.81543810e-01],\n",
       "        [ -1.35289725e+00,   4.02830730e+00],\n",
       "        [  6.60236774e+00,   1.17160440e-01],\n",
       "        [ -3.57676707e+00,  -8.31044414e+00],\n",
       "        [ -2.11436192e+00,  -7.79221319e+00],\n",
       "        [ -2.03512518e+00,  -6.82807062e+00],\n",
       "        [ -1.10066120e+00,   4.06742456e+00],\n",
       "        [  8.86612862e-01,   5.43703486e+00],\n",
       "        [ -3.44963220e+00,   5.14816190e+00],\n",
       "        [ -2.74317134e-01,   6.02906383e+00],\n",
       "        [ -4.22455770e+00,  -7.29833966e+00],\n",
       "        [ -2.72896015e+00,  -7.30121519e+00],\n",
       "        [  2.29193553e-01,   5.03859012e+00],\n",
       "        [  6.53199751e+00,  -5.61882954e-01],\n",
       "        [ -4.61895115e+00,  -6.05976028e+00]]),\n",
       " array([1, 1, 1, 0, 2, 0, 0, 0, 0, 2, 0, 0, 1, 0, 1, 1, 2, 1, 2, 1, 1, 1, 2,\n",
       "        1, 0, 0, 2, 2, 0, 1, 1, 1, 0, 0, 1, 2, 1, 1, 2, 1, 1, 0, 1, 0, 2, 0,\n",
       "        0, 2, 2, 2, 0, 0, 0, 2, 2, 1, 0, 2, 0, 0, 2, 2, 1, 1, 0, 2, 1, 1, 1,\n",
       "        0, 2, 2, 1, 2, 2, 1, 2, 2, 0, 0, 1, 2, 1, 2, 0, 1, 0, 1, 2, 2, 2, 0,\n",
       "        0, 0, 0, 2, 2, 0, 1, 2]))"
      ]
     },
     "execution_count": 8,
     "metadata": {},
     "output_type": "execute_result"
    }
   ],
   "source": [
    "blobs = d.make_blobs()\n",
    "blobs"
   ]
  },
  {
   "cell_type": "code",
   "execution_count": 13,
   "metadata": {},
   "outputs": [
    {
     "name": "stdout",
     "output_type": "stream",
     "text": [
      "[  3.59376071  11.36363636  11.13677866]\n",
      "[  8.58828355  23.29939569   6.85357058]\n"
     ]
    }
   ],
   "source": [
    "from sklearn import preprocessing\n",
    "import numpy as np\n",
    "print(X[:, :3].mean(axis=0))\n",
    "print(X[:, :3].std(axis=0))"
   ]
  },
  {
   "cell_type": "code",
   "execution_count": 15,
   "metadata": {},
   "outputs": [
    {
     "name": "stdout",
     "output_type": "stream",
     "text": [
      "[  6.34099712e-17  -6.34319123e-16  -2.68291099e-15]\n",
      "[ 1.  1.  1.]\n"
     ]
    }
   ],
   "source": [
    "X_2 = preprocessing.scale(X[:, :3])\n",
    "print(X_2.mean(axis=0))\n",
    "print(X_2.std(axis=0))"
   ]
  },
  {
   "cell_type": "code",
   "execution_count": 17,
   "metadata": {},
   "outputs": [
    {
     "data": {
      "text/plain": [
       "array([  6.34099712e-17,  -6.34319123e-16,  -2.68291099e-15])"
      ]
     },
     "execution_count": 17,
     "metadata": {},
     "output_type": "execute_result"
    }
   ],
   "source": [
    "my_scaler = preprocessing.StandardScaler()\n",
    "my_scaler.fit(X[:, :3])\n",
    "my_scaler.transform(X[:, :3]).mean(axis=0)"
   ]
  },
  {
   "cell_type": "code",
   "execution_count": 19,
   "metadata": {},
   "outputs": [
    {
     "data": {
      "text/plain": [
       "array([ 1.,  1.,  1.])"
      ]
     },
     "execution_count": 19,
     "metadata": {},
     "output_type": "execute_result"
    }
   ],
   "source": [
    "my_minmax_scaler = preprocessing.MinMaxScaler()\n",
    "my_minmax_scaler.fit(X[:, :3])\n",
    "my_minmax_scaler.transform(X[:, :3]).max(axis=0)\n"
   ]
  },
  {
   "cell_type": "code",
   "execution_count": null,
   "metadata": {
    "collapsed": true
   },
   "outputs": [],
   "source": []
  }
 ],
 "metadata": {
  "kernelspec": {
   "display_name": "Python 3",
   "language": "python",
   "name": "python3"
  },
  "language_info": {
   "codemirror_mode": {
    "name": "ipython",
    "version": 3
   },
   "file_extension": ".py",
   "mimetype": "text/x-python",
   "name": "python",
   "nbconvert_exporter": "python",
   "pygments_lexer": "ipython3",
   "version": "3.5.3"
  }
 },
 "nbformat": 4,
 "nbformat_minor": 2
}
