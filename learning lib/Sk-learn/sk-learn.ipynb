{
 "cells": [
  {
   "cell_type": "code",
   "execution_count": 1,
   "metadata": {
    "collapsed": true
   },
   "outputs": [],
   "source": [
    "from sklearn import datasets\n",
    "import numpy as np"
   ]
  },
  {
   "cell_type": "code",
   "execution_count": 2,
   "metadata": {},
   "outputs": [
    {
     "name": "stdout",
     "output_type": "stream",
     "text": [
      "Boston House Prices dataset\n",
      "===========================\n",
      "\n",
      "Notes\n",
      "------\n",
      "Data Set Characteristics:  \n",
      "\n",
      "    :Number of Instances: 506 \n",
      "\n",
      "    :Number of Attributes: 13 numeric/categorical predictive\n",
      "    \n",
      "    :Median Value (attribute 14) is usually the target\n",
      "\n",
      "    :Attribute Information (in order):\n",
      "        - CRIM     per capita crime rate by town\n",
      "        - ZN       proportion of residential land zoned for lots over 25,000 sq.ft.\n",
      "        - INDUS    proportion of non-retail business acres per town\n",
      "        - CHAS     Charles River dummy variable (= 1 if tract bounds river; 0 otherwise)\n",
      "        - NOX      nitric oxides concentration (parts per 10 million)\n",
      "        - RM       average number of rooms per dwelling\n",
      "        - AGE      proportion of owner-occupied units built prior to 1940\n",
      "        - DIS      weighted distances to five Boston employment centres\n",
      "        - RAD      index of accessibility to radial highways\n",
      "        - TAX      full-value property-tax rate per $10,000\n",
      "        - PTRATIO  pupil-teacher ratio by town\n",
      "        - B        1000(Bk - 0.63)^2 where Bk is the proportion of blacks by town\n",
      "        - LSTAT    % lower status of the population\n",
      "        - MEDV     Median value of owner-occupied homes in $1000's\n",
      "\n",
      "    :Missing Attribute Values: None\n",
      "\n",
      "    :Creator: Harrison, D. and Rubinfeld, D.L.\n",
      "\n",
      "This is a copy of UCI ML housing dataset.\n",
      "http://archive.ics.uci.edu/ml/datasets/Housing\n",
      "\n",
      "\n",
      "This dataset was taken from the StatLib library which is maintained at Carnegie Mellon University.\n",
      "\n",
      "The Boston house-price data of Harrison, D. and Rubinfeld, D.L. 'Hedonic\n",
      "prices and the demand for clean air', J. Environ. Economics & Management,\n",
      "vol.5, 81-102, 1978.   Used in Belsley, Kuh & Welsch, 'Regression diagnostics\n",
      "...', Wiley, 1980.   N.B. Various transformations are used in the table on\n",
      "pages 244-261 of the latter.\n",
      "\n",
      "The Boston house-price data has been used in many machine learning papers that address regression\n",
      "problems.   \n",
      "     \n",
      "**References**\n",
      "\n",
      "   - Belsley, Kuh & Welsch, 'Regression diagnostics: Identifying Influential Data and Sources of Collinearity', Wiley, 1980. 244-261.\n",
      "   - Quinlan,R. (1993). Combining Instance-Based and Model-Based Learning. In Proceedings on the Tenth International Conference of Machine Learning, 236-243, University of Massachusetts, Amherst. Morgan Kaufmann.\n",
      "   - many more! (see http://archive.ics.uci.edu/ml/datasets/Housing)\n",
      "\n"
     ]
    }
   ],
   "source": [
    "boston = datasets.load_boston()\n",
    "print(boston.DESCR)"
   ]
  },
  {
   "cell_type": "code",
   "execution_count": 3,
   "metadata": {},
   "outputs": [
    {
     "name": "stdout",
     "output_type": "stream",
     "text": [
      "California housing dataset.\n",
      "\n",
      "The original database is available from StatLib\n",
      "\n",
      "    http://lib.stat.cmu.edu/\n",
      "\n",
      "The data contains 20,640 observations on 9 variables.\n",
      "\n",
      "This dataset contains the average house value as target variable\n",
      "and the following input variables (features): average income,\n",
      "housing average age, average rooms, average bedrooms, population,\n",
      "average occupation, latitude, and longitude in that order.\n",
      "\n",
      "References\n",
      "----------\n",
      "\n",
      "Pace, R. Kelley and Ronald Barry, Sparse Spatial Autoregressions,\n",
      "Statistics and Probability Letters, 33 (1997) 291-297.\n",
      "\n",
      "\n"
     ]
    }
   ],
   "source": [
    "hoursing = datasets.fetch_california_housing()\n",
    "print(hoursing.DESCR)"
   ]
  },
  {
   "cell_type": "code",
   "execution_count": 4,
   "metadata": {
    "collapsed": true
   },
   "outputs": [],
   "source": [
    "X,y = boston.data, boston.target"
   ]
  },
  {
   "cell_type": "code",
   "execution_count": 5,
   "metadata": {
    "collapsed": true
   },
   "outputs": [],
   "source": [
    "import sklearn.datasets as d\n",
    "import numpy as np"
   ]
  },
  {
   "cell_type": "code",
   "execution_count": 8,
   "metadata": {},
   "outputs": [
    {
     "data": {
      "text/plain": [
       "(array([[-0.49526776,  1.00409481,  0.19811475, ...,  1.62868034,\n",
       "         -1.10266592,  0.23575137],\n",
       "        [-0.87995053,  1.0737584 ,  0.35475817, ...,  0.84636034,\n",
       "          1.08323984,  0.67990654],\n",
       "        [ 1.84523815,  1.21377023,  0.30860159, ...,  1.64061132,\n",
       "          1.10454996, -0.0426878 ],\n",
       "        ..., \n",
       "        [-0.18623492,  0.20077356,  1.2372846 , ...,  0.83760958,\n",
       "         -1.40649865, -1.93928225],\n",
       "        [ 0.84303361, -1.30072477,  0.7697774 , ..., -0.55646534,\n",
       "          0.98553304,  2.07892992],\n",
       "        [-1.18308549,  0.73194241,  1.73211894, ...,  0.48952998,\n",
       "          0.59429781,  0.29334784]]),\n",
       " array([ 204.01370939,  -12.22950544, -128.56158335,  123.87896487,\n",
       "         150.7138077 ,  -18.66731052,   43.08760213, -237.11295975,\n",
       "         147.77155188,  414.21416499, -138.45321749, -323.52566348,\n",
       "        -110.60910111, -373.39158543, -182.84290434,   35.85881325,\n",
       "         -62.00266109,  487.80279052,  273.13361579,  492.33468206,\n",
       "        -216.26219964, -219.8078819 ,  374.28657901,   60.64828319,\n",
       "         338.78472389,   56.90211229,  -61.21518542, -131.75984218,\n",
       "          63.70487247,  167.16173533, -111.66588896, -299.08219114,\n",
       "        -431.00599214, -134.99583418,  216.06969559,  100.87730804,\n",
       "         303.59387224,  -45.97982492, -115.10391748,   98.2995071 ,\n",
       "         -93.70518421,  -28.77148633, -459.46518097, -430.65094164,\n",
       "          84.93604054, -102.54886192,   70.75335742,  239.64989777,\n",
       "         496.30680132,   41.52524649,  197.11028955, -385.86015108,\n",
       "        -122.88246796, -146.09977799, -282.01925191, -422.64121089,\n",
       "        -286.01916321,  582.84266208,  -10.68554518, -212.18642047,\n",
       "         169.9471484 ,   72.06541488, -170.56694942,  167.19698049,\n",
       "        -438.62844386,  -46.06199854,   31.6424395 , -230.50480918,\n",
       "         240.60997541,  498.97595385,   24.54369528,  418.04079306,\n",
       "        -164.57409427, -197.94063489, -182.23499589,   29.85020396,\n",
       "         182.27343765,   96.00720324, -361.71110667,  149.81348388,\n",
       "          50.10275866, -435.51885852, -127.55122334, -217.21727643,\n",
       "         -31.89480905,   77.60895075, -139.05011797,  493.43783067,\n",
       "        -465.19842189, -297.86789095, -266.31889665,  471.62777663,\n",
       "          99.72818769, -207.94034357, -182.66069136,  483.42908909,\n",
       "          48.29727658, -347.922705  ,   -9.30955343, -310.55387403]))"
      ]
     },
     "execution_count": 8,
     "metadata": {},
     "output_type": "execute_result"
    }
   ],
   "source": [
    "reg_data = d.make_regression()\n",
    "reg_data"
   ]
  },
  {
   "cell_type": "code",
   "execution_count": 9,
   "metadata": {},
   "outputs": [
    {
     "data": {
      "text/plain": [
       "array([12, 88])"
      ]
     },
     "execution_count": 9,
     "metadata": {},
     "output_type": "execute_result"
    }
   ],
   "source": [
    "classification_set = d.make_classification(weights=[0.1])\n",
    "np.bincount(classification_set[1])"
   ]
  },
  {
   "cell_type": "code",
   "execution_count": 11,
   "metadata": {},
   "outputs": [
    {
     "data": {
      "text/plain": [
       "(array([[-7.45824173,  1.13734848],\n",
       "        [-3.78324067, -4.51498812],\n",
       "        [-6.7561399 ,  1.5409779 ],\n",
       "        [-3.84783439, -3.59608427],\n",
       "        [-4.79339587,  3.93410442],\n",
       "        [-8.10049439,  2.4359226 ],\n",
       "        [-3.82425405, -2.8007784 ],\n",
       "        [-6.6705211 ,  2.16428124],\n",
       "        [-5.94496209, -0.19554725],\n",
       "        [-6.61049829,  3.33842115],\n",
       "        [-6.33426506,  0.66961292],\n",
       "        [-5.46523442, -0.40599809],\n",
       "        [-3.50110488, -3.84617906],\n",
       "        [-7.27044417,  2.45838577],\n",
       "        [-5.00705484,  1.47122933],\n",
       "        [-7.17030103,  2.05500396],\n",
       "        [-5.66847305,  0.02002966],\n",
       "        [-4.2291018 , -3.30386303],\n",
       "        [-5.59129498, -0.50455437],\n",
       "        [-5.1406908 ,  0.80806005],\n",
       "        [-7.83006135, -0.36287445],\n",
       "        [-4.92192116, -2.53312116],\n",
       "        [-5.33267916,  0.31159568],\n",
       "        [-3.7165519 , -4.50762407],\n",
       "        [-6.60478603,  1.79829005],\n",
       "        [-5.41441968, -4.44056105],\n",
       "        [-6.25399614,  1.16662778],\n",
       "        [-6.37473217,  2.11125948],\n",
       "        [-8.57196919,  0.36563291],\n",
       "        [-1.76209707, -3.49558856],\n",
       "        [-8.20361787,  0.4278743 ],\n",
       "        [-3.94122549, -4.69104505],\n",
       "        [-7.23776096,  1.57320578],\n",
       "        [-7.96909669,  1.50183618],\n",
       "        [-6.34843523,  2.59492059],\n",
       "        [-6.36985197,  2.26306152],\n",
       "        [-3.05769694, -2.90759489],\n",
       "        [-7.75584336,  1.50619845],\n",
       "        [-9.51208329,  1.00974976],\n",
       "        [-3.9967654 , -2.95271884],\n",
       "        [-8.23794957,  1.13167966],\n",
       "        [-3.79434077, -5.24764566],\n",
       "        [-6.46164601,  1.50491453],\n",
       "        [-4.9333721 , -4.27503857],\n",
       "        [-7.06958554,  1.32784329],\n",
       "        [-6.3102817 ,  0.5558971 ],\n",
       "        [-3.36481545, -3.2993297 ],\n",
       "        [-7.37472991,  2.93938738],\n",
       "        [-5.11116766, -2.26362484],\n",
       "        [-7.46720686,  2.52520604],\n",
       "        [-4.79553402, -2.7216276 ],\n",
       "        [-5.99854465, -2.58168676],\n",
       "        [-4.86849773,  0.82912081],\n",
       "        [-4.60037762, -2.76902809],\n",
       "        [-5.48631957,  1.49893539],\n",
       "        [-3.04791661, -2.49858952],\n",
       "        [-6.81380086,  2.41490334],\n",
       "        [-6.59649492,  2.30253302],\n",
       "        [-4.05829186,  0.810726  ],\n",
       "        [-6.00691692,  1.43264273],\n",
       "        [-6.0344798 ,  1.63766772],\n",
       "        [-4.53918614, -3.83185712],\n",
       "        [-7.07707347,  3.12526258],\n",
       "        [-7.03614937,  1.3966036 ],\n",
       "        [-5.58546739,  0.99806169],\n",
       "        [-2.24449999, -4.48308477],\n",
       "        [-8.20407954,  1.72094934],\n",
       "        [-6.08026234, -0.55156051],\n",
       "        [-9.4192833 ,  1.82424179],\n",
       "        [-8.55850645,  1.59210809],\n",
       "        [-5.04627321, -3.37028794],\n",
       "        [-5.49233652,  0.98833599],\n",
       "        [-6.69974891,  2.06598426],\n",
       "        [-5.012546  , -3.4155429 ],\n",
       "        [-4.57451799, -4.76419105],\n",
       "        [-6.48869878,  2.18896041],\n",
       "        [-4.42966376, -1.31401172],\n",
       "        [-5.77302954,  0.33376299],\n",
       "        [-7.38123589,  0.61042982],\n",
       "        [-3.61397119, -2.14440291],\n",
       "        [-7.32523989,  2.29730516],\n",
       "        [-7.26032705,  0.60184983],\n",
       "        [-3.38526766, -2.78544708],\n",
       "        [-6.61713855, -0.29204382],\n",
       "        [-7.64794719,  1.1750685 ],\n",
       "        [-5.25505545,  1.01280717],\n",
       "        [-4.43039001,  1.4864862 ],\n",
       "        [-4.45482765, -3.03320497],\n",
       "        [-3.96822757, -2.49679426],\n",
       "        [-4.65031579,  0.35437492],\n",
       "        [-5.87378302,  2.16414405],\n",
       "        [-6.38394326,  1.66460308],\n",
       "        [-3.1547677 , -3.78567237],\n",
       "        [-9.237764  ,  1.39627642],\n",
       "        [-5.36506822,  1.09952004],\n",
       "        [-9.05433434,  1.01605508],\n",
       "        [-4.85307046,  0.26008365],\n",
       "        [-6.77058708,  0.45610997],\n",
       "        [-4.0038318 , -3.92647954],\n",
       "        [-5.85071562, -1.73381085]]),\n",
       " array([0, 1, 0, 1, 2, 0, 1, 0, 2, 0, 2, 2, 1, 0, 2, 0, 2, 1, 2, 2, 0, 1, 2,\n",
       "        1, 2, 1, 0, 0, 0, 1, 0, 1, 2, 0, 2, 2, 1, 2, 0, 1, 0, 1, 0, 1, 0, 0,\n",
       "        1, 2, 1, 0, 1, 1, 2, 1, 2, 1, 0, 0, 2, 2, 0, 1, 0, 0, 2, 1, 0, 2, 0,\n",
       "        0, 1, 2, 2, 1, 1, 2, 1, 2, 0, 1, 0, 0, 1, 2, 0, 2, 2, 1, 1, 2, 0, 0,\n",
       "        1, 0, 2, 2, 2, 2, 1, 1]))"
      ]
     },
     "execution_count": 11,
     "metadata": {},
     "output_type": "execute_result"
    }
   ],
   "source": [
    "blobs = d.make_blobs()\n",
    "blobs"
   ]
  },
  {
   "cell_type": "code",
   "execution_count": null,
   "metadata": {
    "collapsed": true
   },
   "outputs": [],
   "source": []
  }
 ],
 "metadata": {
  "kernelspec": {
   "display_name": "Python 3",
   "language": "python",
   "name": "python3"
  },
  "language_info": {
   "codemirror_mode": {
    "name": "ipython",
    "version": 3
   },
   "file_extension": ".py",
   "mimetype": "text/x-python",
   "name": "python",
   "nbconvert_exporter": "python",
   "pygments_lexer": "ipython3",
   "version": "3.5.3"
  }
 },
 "nbformat": 4,
 "nbformat_minor": 2
}
