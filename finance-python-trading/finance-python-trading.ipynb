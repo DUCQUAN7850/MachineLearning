{
 "cells": [
  {
   "cell_type": "code",
   "execution_count": 15,
   "metadata": {},
   "outputs": [],
   "source": [
    "import pandas_datareader.data as web\n",
    "import pandas as pd\n",
    "#import quandl \n",
    "import datetime"
   ]
  },
  {
   "cell_type": "code",
   "execution_count": 14,
   "metadata": {},
   "outputs": [
    {
     "data": {
      "text/html": [
       "<div>\n",
       "<table border=\"1\" class=\"dataframe\">\n",
       "  <thead>\n",
       "    <tr style=\"text-align: right;\">\n",
       "      <th></th>\n",
       "      <th>Open</th>\n",
       "      <th>High</th>\n",
       "      <th>Low</th>\n",
       "      <th>Close</th>\n",
       "      <th>Volume</th>\n",
       "    </tr>\n",
       "    <tr>\n",
       "      <th>Date</th>\n",
       "      <th></th>\n",
       "      <th></th>\n",
       "      <th></th>\n",
       "      <th></th>\n",
       "      <th></th>\n",
       "    </tr>\n",
       "  </thead>\n",
       "  <tbody>\n",
       "    <tr>\n",
       "      <th>2006-10-02</th>\n",
       "      <td>10.73</td>\n",
       "      <td>10.84</td>\n",
       "      <td>10.61</td>\n",
       "      <td>10.69</td>\n",
       "      <td>178263043</td>\n",
       "    </tr>\n",
       "    <tr>\n",
       "      <th>2006-10-03</th>\n",
       "      <td>10.64</td>\n",
       "      <td>10.71</td>\n",
       "      <td>10.46</td>\n",
       "      <td>10.58</td>\n",
       "      <td>197724611</td>\n",
       "    </tr>\n",
       "    <tr>\n",
       "      <th>2006-10-04</th>\n",
       "      <td>10.59</td>\n",
       "      <td>10.78</td>\n",
       "      <td>10.45</td>\n",
       "      <td>10.77</td>\n",
       "      <td>209840785</td>\n",
       "    </tr>\n",
       "    <tr>\n",
       "      <th>2006-10-05</th>\n",
       "      <td>10.65</td>\n",
       "      <td>10.88</td>\n",
       "      <td>10.59</td>\n",
       "      <td>10.69</td>\n",
       "      <td>170994999</td>\n",
       "    </tr>\n",
       "    <tr>\n",
       "      <th>2006-10-06</th>\n",
       "      <td>10.63</td>\n",
       "      <td>10.72</td>\n",
       "      <td>10.54</td>\n",
       "      <td>10.60</td>\n",
       "      <td>116749486</td>\n",
       "    </tr>\n",
       "  </tbody>\n",
       "</table>\n",
       "</div>"
      ],
      "text/plain": [
       "             Open   High    Low  Close     Volume\n",
       "Date                                             \n",
       "2006-10-02  10.73  10.84  10.61  10.69  178263043\n",
       "2006-10-03  10.64  10.71  10.46  10.58  197724611\n",
       "2006-10-04  10.59  10.78  10.45  10.77  209840785\n",
       "2006-10-05  10.65  10.88  10.59  10.69  170994999\n",
       "2006-10-06  10.63  10.72  10.54  10.60  116749486"
      ]
     },
     "execution_count": 14,
     "metadata": {},
     "output_type": "execute_result"
    }
   ],
   "source": [
    "aapl = web.DataReader('AAPL', 'google',start =datetime.datetime(2006,10,1), end=datetime.datetime(2012,1,1))\n",
    "aapl.head()"
   ]
  },
  {
   "cell_type": "code",
   "execution_count": 12,
   "metadata": {},
   "outputs": [
    {
     "data": {
      "text/html": [
       "<div>\n",
       "<table border=\"1\" class=\"dataframe\">\n",
       "  <thead>\n",
       "    <tr style=\"text-align: right;\">\n",
       "      <th></th>\n",
       "      <th>Open</th>\n",
       "      <th>High</th>\n",
       "      <th>Low</th>\n",
       "      <th>Close</th>\n",
       "      <th>Volume</th>\n",
       "    </tr>\n",
       "  </thead>\n",
       "  <tbody>\n",
       "    <tr>\n",
       "      <th>count</th>\n",
       "      <td>1322.000000</td>\n",
       "      <td>1322.000000</td>\n",
       "      <td>1322.000000</td>\n",
       "      <td>1322.000000</td>\n",
       "      <td>1.322000e+03</td>\n",
       "    </tr>\n",
       "    <tr>\n",
       "      <th>mean</th>\n",
       "      <td>28.897012</td>\n",
       "      <td>29.234463</td>\n",
       "      <td>28.503268</td>\n",
       "      <td>28.885348</td>\n",
       "      <td>1.885441e+08</td>\n",
       "    </tr>\n",
       "    <tr>\n",
       "      <th>std</th>\n",
       "      <td>14.127249</td>\n",
       "      <td>14.202423</td>\n",
       "      <td>14.033172</td>\n",
       "      <td>14.124514</td>\n",
       "      <td>1.029074e+08</td>\n",
       "    </tr>\n",
       "    <tr>\n",
       "      <th>min</th>\n",
       "      <td>10.490000</td>\n",
       "      <td>10.570000</td>\n",
       "      <td>10.370000</td>\n",
       "      <td>10.460000</td>\n",
       "      <td>3.941499e+07</td>\n",
       "    </tr>\n",
       "    <tr>\n",
       "      <th>25%</th>\n",
       "      <td>17.460000</td>\n",
       "      <td>17.752500</td>\n",
       "      <td>17.182500</td>\n",
       "      <td>17.430000</td>\n",
       "      <td>1.122079e+08</td>\n",
       "    </tr>\n",
       "    <tr>\n",
       "      <th>50%</th>\n",
       "      <td>25.215000</td>\n",
       "      <td>25.620000</td>\n",
       "      <td>24.715000</td>\n",
       "      <td>25.115000</td>\n",
       "      <td>1.631520e+08</td>\n",
       "    </tr>\n",
       "    <tr>\n",
       "      <th>75%</th>\n",
       "      <td>38.807500</td>\n",
       "      <td>39.187500</td>\n",
       "      <td>38.370000</td>\n",
       "      <td>38.705000</td>\n",
       "      <td>2.321660e+08</td>\n",
       "    </tr>\n",
       "    <tr>\n",
       "      <th>max</th>\n",
       "      <td>60.250000</td>\n",
       "      <td>60.960000</td>\n",
       "      <td>59.430000</td>\n",
       "      <td>60.320000</td>\n",
       "      <td>8.432640e+08</td>\n",
       "    </tr>\n",
       "  </tbody>\n",
       "</table>\n",
       "</div>"
      ],
      "text/plain": [
       "              Open         High          Low        Close        Volume\n",
       "count  1322.000000  1322.000000  1322.000000  1322.000000  1.322000e+03\n",
       "mean     28.897012    29.234463    28.503268    28.885348  1.885441e+08\n",
       "std      14.127249    14.202423    14.033172    14.124514  1.029074e+08\n",
       "min      10.490000    10.570000    10.370000    10.460000  3.941499e+07\n",
       "25%      17.460000    17.752500    17.182500    17.430000  1.122079e+08\n",
       "50%      25.215000    25.620000    24.715000    25.115000  1.631520e+08\n",
       "75%      38.807500    39.187500    38.370000    38.705000  2.321660e+08\n",
       "max      60.250000    60.960000    59.430000    60.320000  8.432640e+08"
      ]
     },
     "execution_count": 12,
     "metadata": {},
     "output_type": "execute_result"
    }
   ],
   "source": [
    "aapl.describe()"
   ]
  },
  {
   "cell_type": "code",
   "execution_count": 13,
   "metadata": {},
   "outputs": [
    {
     "name": "stdout",
     "output_type": "stream",
     "text": [
      "<class 'pandas.core.frame.DataFrame'>\n",
      "DatetimeIndex: 1322 entries, 2006-10-02 to 2011-12-30\n",
      "Data columns (total 5 columns):\n",
      "Open      1322 non-null float64\n",
      "High      1322 non-null float64\n",
      "Low       1322 non-null float64\n",
      "Close     1322 non-null float64\n",
      "Volume    1322 non-null int64\n",
      "dtypes: float64(4), int64(1)\n",
      "memory usage: 62.0 KB\n"
     ]
    }
   ],
   "source": [
    "aapl.info()"
   ]
  },
  {
   "cell_type": "code",
   "execution_count": 21,
   "metadata": {},
   "outputs": [],
   "source": [
    "aapl.to_csv('data/aapl_ohlc.csv')\n",
    "df = pd.read_csv('data/aapl_ohlc.csv', header=0, index_col='Date', parse_dates=True)"
   ]
  },
  {
   "cell_type": "code",
   "execution_count": 23,
   "metadata": {},
   "outputs": [
    {
     "data": {
      "text/plain": [
       "DatetimeIndex(['2006-10-02', '2006-10-03', '2006-10-04', '2006-10-05',\n",
       "               '2006-10-06', '2006-10-09', '2006-10-10', '2006-10-11',\n",
       "               '2006-10-12', '2006-10-13',\n",
       "               ...\n",
       "               '2011-12-16', '2011-12-19', '2011-12-20', '2011-12-21',\n",
       "               '2011-12-22', '2011-12-23', '2011-12-27', '2011-12-28',\n",
       "               '2011-12-29', '2011-12-30'],\n",
       "              dtype='datetime64[ns]', name='Date', length=1322, freq=None)"
      ]
     },
     "execution_count": 23,
     "metadata": {},
     "output_type": "execute_result"
    }
   ],
   "source": [
    "\n",
    "aapl.index"
   ]
  },
  {
   "cell_type": "code",
   "execution_count": 25,
   "metadata": {},
   "outputs": [
    {
     "data": {
      "text/plain": [
       "Index(['Open', 'High', 'Low', 'Close', 'Volume'], dtype='object')"
      ]
     },
     "execution_count": 25,
     "metadata": {},
     "output_type": "execute_result"
    }
   ],
   "source": [
    "aapl.columns"
   ]
  },
  {
   "cell_type": "code",
   "execution_count": 26,
   "metadata": {
    "collapsed": true
   },
   "outputs": [],
   "source": [
    "ts = aapl['Close'][10:]"
   ]
  },
  {
   "cell_type": "code",
   "execution_count": 27,
   "metadata": {},
   "outputs": [
    {
     "data": {
      "text/plain": [
       "pandas.core.series.Series"
      ]
     },
     "execution_count": 27,
     "metadata": {},
     "output_type": "execute_result"
    }
   ],
   "source": [
    "type(ts)"
   ]
  },
  {
   "cell_type": "code",
   "execution_count": null,
   "metadata": {
    "collapsed": true
   },
   "outputs": [],
   "source": []
  }
 ],
 "metadata": {
  "kernelspec": {
   "display_name": "Python 3",
   "language": "python",
   "name": "python3"
  },
  "language_info": {
   "codemirror_mode": {
    "name": "ipython",
    "version": 3
   },
   "file_extension": ".py",
   "mimetype": "text/x-python",
   "name": "python",
   "nbconvert_exporter": "python",
   "pygments_lexer": "ipython3",
   "version": "3.5.3"
  }
 },
 "nbformat": 4,
 "nbformat_minor": 2
}
